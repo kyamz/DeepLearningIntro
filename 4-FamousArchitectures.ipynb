{
 "cells": [
  {
   "cell_type": "markdown",
   "metadata": {},
   "source": [
    "# Famous Architectures"
   ]
  },
  {
   "cell_type": "markdown",
   "metadata": {},
   "source": [
    "Convolutional Neural Networks can be visualized as computation graphs with input nodes where the computation starts and output nodes where the result can be read. Here the models that are provided with mxnet are compared using the <code>mx.viz.plot_network</code> method. The output node is at the top and the input node is at the bottom."
   ]
  },
  {
   "cell_type": "markdown",
   "metadata": {},
   "source": [
    "http://josephpcohen.com/w/visualizing-cnn-architectures-side-by-side-with-mxnet/\n",
    "\n",
    "<table>\n",
    "<tbody>\n",
    "<tr style=\"padding: 0px;\" align=\"center\">\n",
    "<td><a href=\"https://github.com/dmlc/mxnet/blob/master/example/image-classification/train_mnist.py\">LeNet<br>\n",
    "28×28<br>\n",
    "(1998)</a></td>\n",
    "<td><a href=\"https://github.com/dmlc/mxnet/blob/master/example/image-classification/symbol_alexnet.py\">AlexNet<br>\n",
    "224×224<br>\n",
    "(2012)</a></td>\n",
    "<td><a href=\"https://github.com/dmlc/mxnet/blob/master/example/image-classification/symbol_vgg.py\">VGG<br>\n",
    "224×224<br>\n",
    "(9/2014)</a></td>\n",
    "<td><a href=\"https://github.com/dmlc/mxnet/blob/master/example/image-classification/symbol_googlenet.py\">GoogLeNet<br>\n",
    "224×224<br>\n",
    "(9/2014)</a></td>\n",
    "<td><a href=\"https://github.com/dmlc/mxnet/blob/master/example/image-classification/symbol_inception-bn.py\">Inception BN<br>\n",
    "224×224<br>\n",
    "(2/2015)</a></td>\n",
    "<td><a href=\"https://github.com/dmlc/mxnet/blob/master/example/image-classification/symbol_inception-v3.py\">Inception V3<br>\n",
    "299×299<br>\n",
    "(12/2015)</a></td>\n",
    "<td><a href=\"https://github.com/dmlc/mxnet/blob/master/example/image-classification/symbol_resnet-28-small.py\">Resnet (n=9, 56 Layers)<br>\n",
    "28×28<br>\n",
    "(12/2015)</a></td>\n",
    "</tr>\n",
    "<tr valign=\"top\" align=\"center\">\n",
    "<td style=\"vertical-align:top\"><a href=\"files/lenet.pdf\"><img style=\"width: 80px;vertical-align:top\" src=\"files/lenet.png\" alt=\"a\"></a></td>\n",
    "<td style=\"vertical-align:top\"><a href=\"files/alexnet.pdf\"><img style=\"width: 80px;\" src=\"files/alexnet.png\" alt=\"a\"></a></td>\n",
    "<td style=\"vertical-align:top\"><a href=\"files/vgg.pdf\"><img style=\"width: 80px;\" src=\"files/vgg.png\" alt=\"a\"></a></td>\n",
    "<td style=\"vertical-align:top\"><a href=\"files/googlenet.pdf\"><img style=\"width: 250px;\" src=\"files/googlenet.png\" alt=\"a\"></a></td>\n",
    "<td style=\"vertical-align:top\"><a href=\"files/inception-bn.pdf\"><img style=\"width: 300px;\" src=\"files/inception-bn.png\" alt=\"a\"></a></td>\n",
    "<td style=\"vertical-align:top\"><a href=\"files/inception-v3.pdf\"><img style=\"width: 400px;\" src=\"files/inception-v3.png\" alt=\"a\"></a></td>\n",
    "<td style=\"vertical-align:top\"><a href=\"files/resnet-28-small.pdf\"><img style=\"width: 260px;\" src=\"files/resnet-28-small.png\" alt=\"a\"></a></td>\n",
    "</tr>\n",
    "</tbody>\n",
    "</table>"
   ]
  }
 ],
 "metadata": {
  "kernelspec": {
   "display_name": "Python 2",
   "language": "python",
   "name": "python2"
  },
  "language_info": {
   "codemirror_mode": {
    "name": "ipython",
    "version": 2
   },
   "file_extension": ".py",
   "mimetype": "text/x-python",
   "name": "python",
   "nbconvert_exporter": "python",
   "pygments_lexer": "ipython2",
   "version": "2.7.13"
  }
 },
 "nbformat": 4,
 "nbformat_minor": 2
}
