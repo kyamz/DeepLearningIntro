{
 "cells": [
  {
   "cell_type": "markdown",
   "metadata": {},
   "source": [
    "# Training Tips and Tricks\n",
    "\n",
    "\n",
    "### Contents\n",
    "\n",
    "* [Data Preprocessing](#Data-Preprocessing)\n",
    "* [Weight and Bias Initialization](#Weight-and-Bias-Initialization)\n",
    "    * [Xavier-Glorot Initialization](#Xavier-Glorot Initialization)\n",
    "        * [Xavier Normal](#Xavier-Normal)\n",
    "        * [Xavier Uniform](#Xavier-Uniform)\n",
    "    * [Kaiming Normal Initialization](#Kaiming-Normal-Initialization)\n",
    "    * [Orthogonal Initialization](#Orthogonal-Initialization)\n",
    "    * [Initialization Visualization](#Initialization-Visualization)\n",
    "    * [Bias Initialization](#Bias-Initialization)\n",
    "* [Optimizers](#Optimizers)\n",
    "    * [Momentum](#Momentum)\n",
    "    * [Nesterov Momentum](#Nesterov-Momentum)\n",
    "    * [Adagrad](#Adagrad)\n",
    "    * [RMSProp](#RMSProp)\n",
    "    * [Adam](#Adam)\n",
    "* [Unit Tests before you start training](#Unit-Tests-before-you-start-training)\n",
    "    * [Correct Loss value](#Correct-Loss-value)\n",
    "    * [Overfitting test](#Overfitting-test)\n",
    "    * [Gradient Checks](#Gradient-Checks)\n",
    "    * [Inspecting the Learning Rate](#Inspecting-the-Learning-Rate)\n",
    "    * [Learning rate annealing](#Learning-rate-annealing)\n",
    "* [Putting it all together in MXNet](#Putting-it-all-together)\n",
    "\n",
    "\n"
   ]
  },
  {
   "cell_type": "markdown",
   "metadata": {},
   "source": [
    "### Before we get started\n",
    "\n",
    "Neural Networks, like other Machine Learning and statistical models, benefit heavily from having data pre-processed to get rid of noisey, inconsistant, and incomplete samples.\n",
    "\n",
    "\n",
    "Please feel free to skip this section if you're familiar with data pre-processing "
   ]
  },
  {
   "cell_type": "code",
   "execution_count": 1,
   "metadata": {
    "collapsed": true
   },
   "outputs": [],
   "source": [
    "%matplotlib inline\n",
    "import matplotlib\n",
    "matplotlib.rcParams['figure.figsize'] = 15,3\n",
    "import numpy as np\n",
    "import matplotlib.pyplot as plt\n",
    "np.random.seed(123)\n",
    "\n",
    "# Create some fake data\n",
    "xx = np.array([-.5, .5])\n",
    "yy = np.array([-.3, 3])\n",
    "means = [xx.mean(), yy.mean()]  \n",
    "stds = [xx.std() / 3, yy.std() / 3]\n",
    "corr = 0.7        # correlation\n",
    "covs = [[stds[0]**2          , stds[0]*stds[1]*corr], \n",
    "        [stds[0]*stds[1]*corr,           stds[1]**2]] \n",
    "m = np.random.multivariate_normal(means, covs, 1000)"
   ]
  },
  {
   "cell_type": "markdown",
   "metadata": {},
   "source": [
    "# Data Preprocessing"
   ]
  },
  {
   "cell_type": "markdown",
   "metadata": {},
   "source": [
    "A few very common techniques are: Zero Centering, Normalizing, PCA, and Whitening"
   ]
  },
  {
   "cell_type": "markdown",
   "metadata": {},
   "source": [
    "***Zero Centering***: subtracting the mean from the data "
   ]
  },
  {
   "cell_type": "code",
   "execution_count": 2,
   "metadata": {
    "collapsed": true
   },
   "outputs": [],
   "source": [
    "### Zero Centered\n",
    "meanx = np.mean(m, axis=0)\n",
    "xx = m - meanx"
   ]
  },
  {
   "cell_type": "markdown",
   "metadata": {},
   "source": [
    "***Normalizing***: standardizing the data so that all dimensions are on the same scale"
   ]
  },
  {
   "cell_type": "code",
   "execution_count": 3,
   "metadata": {
    "collapsed": true
   },
   "outputs": [],
   "source": [
    "### Normalized\n",
    "stdx = np.std(m, axis = 0)\n",
    "n = xx / stdx"
   ]
  },
  {
   "cell_type": "markdown",
   "metadata": {},
   "source": [
    "***Principal Components Analysis***: removes correlation between variables by reducing the data to a set of *n* uncorrelated variables"
   ]
  },
  {
   "cell_type": "code",
   "execution_count": 4,
   "metadata": {
    "collapsed": true
   },
   "outputs": [],
   "source": [
    "### PCA\n",
    "# get the data covariance matrix of the zero-centered data\n",
    "cov = np.dot(xx.T, xx) / xx.shape[0]\n",
    "# compute the SVD factorization of the data covariance matrix\n",
    "U,S,V = np.linalg.svd(cov)\n",
    "# decorrelate the data\n",
    "Xrot = np.dot(xx, U)\n",
    "# Xrot_reduced becomes [N x 100]\n",
    "Xrot_reduced = np.dot(xx, U[:,:100])"
   ]
  },
  {
   "cell_type": "markdown",
   "metadata": {},
   "source": [
    "***Whitening***: which reduces correlated variables into a set of *n* uncorrelated variables that all have a variance of 1.  "
   ]
  },
  {
   "cell_type": "code",
   "execution_count": 5,
   "metadata": {
    "collapsed": true
   },
   "outputs": [],
   "source": [
    "# whiten the data:\n",
    "# divide by the eigenvalues (which are square roots of the singular values)\n",
    "Xwhite = Xrot / np.sqrt(S)"
   ]
  },
  {
   "cell_type": "markdown",
   "metadata": {},
   "source": [
    "#### Plot the differences"
   ]
  },
  {
   "cell_type": "code",
   "execution_count": 6,
   "metadata": {},
   "outputs": [
    {
     "data": {
      "text/plain": [
       "<matplotlib.text.Text at 0x11947a050>"
      ]
     },
     "execution_count": 6,
     "metadata": {},
     "output_type": "execute_result"
    },
    {
     "data": {
      "image/png": "[encoded data removed]",
      "text/plain": [
       "<matplotlib.figure.Figure at 0x115c2c290>"
      ]
     },
     "metadata": {},
     "output_type": "display_data"
    }
   ],
   "source": [
    "# Plot \n",
    "f, (ax1, ax2, ax3, ax4, ax5) = plt.subplots(1, 5, sharey=True)\n",
    "ax1.plot(m.T[0],m.T[1],'o')\n",
    "ax1.set_title('Original Data')\n",
    "ax2.plot(xx.T[0],xx.T[1],'o')\n",
    "ax2.set_title('Zero Centered Data')\n",
    "ax3.plot(n.T[0],n.T[1],'o')\n",
    "ax3.set_title('Normalized Data')\n",
    "ax4.plot(Xrot_reduced.T[0],Xrot_reduced.T[1],'o')\n",
    "ax4.set_title('PCA - Decorralated Data')\n",
    "ax5.plot(Xwhite.T[0],Xwhite.T[1],'o')\n",
    "ax5.set_title('Whitened Data')\n"
   ]
  },
  {
   "cell_type": "markdown",
   "metadata": {},
   "source": [
    "# Weight and Bias Initialization"
   ]
  },
  {
   "cell_type": "markdown",
   "metadata": {},
   "source": [
    "So far we've initilaized $W$ with random initializations. We want the weights to random and as close to zero as possible without actually being zero. This is because if every neuron is zero,  they will compute the same output with the same gradients during backpropagation and undergo the exact same parameter updates. If the weights in a network start too small, then the signal shrinks as it passes through each layer until it’s too tiny to be useful. If the weights in a network start too large, then the signal grows as it passes through each layer until it’s too massive to be useful. So how do we initialize our weights?"
   ]
  },
  {
   "cell_type": "code",
   "execution_count": 7,
   "metadata": {
    "collapsed": true
   },
   "outputs": [],
   "source": [
    "%matplotlib inline\n",
    "import matplotlib\n",
    "matplotlib.rcParams['figure.figsize'] = 10,3\n",
    "from sklearn.manifold import TSNE\n",
    "import numpy as np\n",
    "import matplotlib.pyplot as plt\n",
    "import mxnet as mx\n",
    "np.random.seed(12)\n",
    "\n",
    "def return_weight_data(initializer):\n",
    "    \"\"\"\n",
    "    function to show how the mxnet initializers work\n",
    "    \"\"\"\n",
    "    data = mx.symbol.Variable('data')\n",
    "    weight  = mx.symbol.FullyConnected(data = data, name='weight',\n",
    "                                       num_hidden=500)\n",
    "    mlp = mx.symbol.SoftmaxOutput(data=weight, name='softmax')\n",
    "\n",
    "    # Here we instatiate the model for our data\n",
    "    model = mx.mod.Module(\n",
    "        mlp, context = mx.cpu(0), data_names = ['data'],\n",
    "        label_names = ['softmax_label'],\n",
    "        )\n",
    "    # bind the shapes to the module\n",
    "    model.bind(data_shapes=[['data',(500,500)]], \n",
    "               label_shapes=[['softmax_label',(500,)]])\n",
    "    model.init_params(initializer)\n",
    "    return model.get_params()[0]['weight_weight'].asnumpy()"
   ]
  },
  {
   "cell_type": "markdown",
   "metadata": {},
   "source": [
    "### Xavier-Glorot Initialization"
   ]
  },
  {
   "cell_type": "markdown",
   "metadata": {},
   "source": [
    "**Xavier** initialization makes sure the weights are ‘just right’, keeping the signal in a reasonable range of values through many layers; eg the variance on the input and output to be the exact same; thus there are ***Xavier Normal*** and ***Xavier Uniform*** initialization styles, where the normal simply uses Gaussian initializer while the uniform uses a uniform initializer.  "
   ]
  },
  {
   "cell_type": "markdown",
   "metadata": {},
   "source": [
    "#### Xavier Normal"
   ]
  },
  {
   "cell_type": "code",
   "execution_count": 8,
   "metadata": {},
   "outputs": [
    {
     "data": {
      "text/plain": [
       "<mxnet.initializer.Xavier at 0x10fd59710>"
      ]
     },
     "execution_count": 8,
     "metadata": {},
     "output_type": "execute_result"
    }
   ],
   "source": [
    "def xavier_normal(shape, gain=1.0):\n",
    "    fan_in, fan_out = shape[0], shape[1]\n",
    "    std = gain * np.sqrt(2.0 / (fan_in + fan_out))\n",
    "    return np.random.uniform(0, std, shape)\n",
    "\n",
    "# xavier_normal mxnet equiv\n",
    "mx.initializer.Xavier(rnd_type='gaussian', \n",
    "                      factor_type='avg', \n",
    "                      magnitude=2)"
   ]
  },
  {
   "cell_type": "markdown",
   "metadata": {},
   "source": [
    "#### Xavier Uniform"
   ]
  },
  {
   "cell_type": "code",
   "execution_count": 9,
   "metadata": {},
   "outputs": [
    {
     "data": {
      "text/plain": [
       "<mxnet.initializer.Xavier at 0x119717bd0>"
      ]
     },
     "execution_count": 9,
     "metadata": {},
     "output_type": "execute_result"
    }
   ],
   "source": [
    "def xavier_uniform(shape, gain=1.0):\n",
    "    fan_in, fan_out = shape[0], shape[1]\n",
    "    std = gain * np.sqrt(2.0 / (fan_in + fan_out))\n",
    "    a = np.sqrt(3.0) * std\n",
    "    return np.random.uniform(-a, a, shape)\n",
    "\n",
    "# xavier_uniform mxnet equiv\n",
    "mx.initializer.Xavier(rnd_type='uniform', \n",
    "                      factor_type='avg', \n",
    "                      magnitude=2)"
   ]
  },
  {
   "cell_type": "markdown",
   "metadata": {},
   "source": [
    "### Kaiming Normal Initialization"
   ]
  },
  {
   "cell_type": "markdown",
   "metadata": {},
   "source": [
    "***Kaiming Normal***: Developed for when using ReLUs. A rectifying linear unit is zero for half of its input, so you need to double the size of weight variance to keep the signal’s variance constant."
   ]
  },
  {
   "cell_type": "code",
   "execution_count": 10,
   "metadata": {},
   "outputs": [
    {
     "data": {
      "text/plain": [
       "<mxnet.initializer.Xavier at 0x10fd36b10>"
      ]
     },
     "execution_count": 10,
     "metadata": {},
     "output_type": "execute_result"
    }
   ],
   "source": [
    "def kaiming_normal(shape, gain=1.0):\n",
    "    fan_in = shape[0]\n",
    "    std = gain * np.sqrt(1.0 / fan_in)\n",
    "    return np.random.uniform(0, std, shape)\n",
    "    \n",
    "# kaiming_normal mxnet equiv\n",
    "mx.initializer.Xavier(rnd_type='uniform', \n",
    "                      factor_type='in', \n",
    "                      magnitude=1)"
   ]
  },
  {
   "cell_type": "markdown",
   "metadata": {},
   "source": [
    "### Orthogonal Initialization"
   ]
  },
  {
   "cell_type": "markdown",
   "metadata": {},
   "source": [
    "***Orthogonal***: The eigen values of an Orthogonally initialized matrix are one. Because eigenvalues are what dictate the growth or death of a result as we perform repeated matrix multiplication, this helps in vanishing gradients as they don't explode or diminish. This initialization style is heavily used in RNNs."
   ]
  },
  {
   "cell_type": "code",
   "execution_count": 11,
   "metadata": {},
   "outputs": [
    {
     "data": {
      "text/plain": [
       "<mxnet.initializer.Orthogonal at 0x119717450>"
      ]
     },
     "execution_count": 11,
     "metadata": {},
     "output_type": "execute_result"
    }
   ],
   "source": [
    "def orthogonal(shape, gain=1.0):\n",
    "    flat_shape = (shape[0], np.prod(shape[1:]))\n",
    "    a = np.random.uniform(0.0, 1.0, flat_shape)\n",
    "    u, _, v = np.linalg.svd(a, full_matrices=False)\n",
    "    # pick the one with the correct shape\n",
    "    q = u if u.shape == flat_shape else v\n",
    "    q = q.reshape(shape)\n",
    "    return gain * q   \n",
    "\n",
    "# orthogonal mxnet equiv\n",
    "mx.initializer.Orthogonal()"
   ]
  },
  {
   "cell_type": "markdown",
   "metadata": {},
   "source": [
    "### Initialization Visualization "
   ]
  },
  {
   "cell_type": "code",
   "execution_count": 12,
   "metadata": {},
   "outputs": [
    {
     "data": {
      "text/plain": [
       "<matplotlib.text.Text at 0x127444ad0>"
      ]
     },
     "execution_count": 12,
     "metadata": {},
     "output_type": "execute_result"
    },
    {
     "data": {
      "image/png": "[encoded data removed]",
      "text/plain": [
       "<matplotlib.figure.Figure at 0x1151ca050>"
      ]
     },
     "metadata": {},
     "output_type": "display_data"
    }
   ],
   "source": [
    "# visualize the layers using Numpy instead of Mxnet\n",
    "#tsne = TSNE()\n",
    "#xn = xavier_normal((500,500))\n",
    "#xn = tsne.fit_transform(xn)\n",
    "#xu = xavier_uniform((500,500))\n",
    "#xu = tsne.fit_transform(xu)\n",
    "#kn = kaiming_normal((500,500))\n",
    "#kn = tsne.fit_transform(kn)\n",
    "#o = orthogonal((500,500))\n",
    "#o = tsne.fit_transform(o)\n",
    "\n",
    "# visualize the layers as a scatter plot\n",
    "tsne = TSNE()\n",
    "xn = return_weight_data(mx.initializer.Xavier(rnd_type='gaussian', \n",
    "                      factor_type='avg', \n",
    "                      magnitude=2))\n",
    "xn = tsne.fit_transform(xn)\n",
    "xu = return_weight_data(mx.initializer.Xavier(rnd_type='uniform', \n",
    "                      factor_type='avg', \n",
    "                      magnitude=2))\n",
    "xu = tsne.fit_transform(xu)\n",
    "kn = return_weight_data(mx.initializer.Xavier(rnd_type='uniform', \n",
    "                      factor_type='in', \n",
    "                      magnitude=1))\n",
    "kn = tsne.fit_transform(kn)\n",
    "o = return_weight_data(mx.initializer.Orthogonal())\n",
    "o = tsne.fit_transform(o)\n",
    "\n",
    "#Plot \n",
    "f, (ax1, ax2, ax3, ax4) = plt.subplots(1, 4, sharey=True)\n",
    "ax1.plot(xn[:,0],xn[:,1],'o')\n",
    "ax1.set_title('Xavier Normal')\n",
    "ax2.plot(xu[:,0],xu[:,1],'o')\n",
    "ax2.set_title('Xavier Uniform')\n",
    "ax3.plot(kn[:,0],kn[:,1],'o')\n",
    "ax3.set_title('Kaiming Normal')\n",
    "ax4.plot(o[:,0],o[:,1],'o')\n",
    "ax4.set_title('Orthogonal')"
   ]
  },
  {
   "cell_type": "markdown",
   "metadata": {},
   "source": [
    "### Bias Initialization"
   ]
  },
  {
   "cell_type": "markdown",
   "metadata": {},
   "source": [
    "***Initializing biases***: It is  common to simply use a vector of 0s for the bias initialization."
   ]
  },
  {
   "cell_type": "markdown",
   "metadata": {},
   "source": [
    "### Initialization TL;DR\n",
    "\n",
    "**TL:DR**: If you're using ReLU activations, you should stick with the kaiming-normal initialization\n"
   ]
  },
  {
   "cell_type": "markdown",
   "metadata": {},
   "source": [
    "# Optimizers"
   ]
  },
  {
   "cell_type": "markdown",
   "metadata": {},
   "source": [
    "Going into the details of the various optimizers will be beyond the scope of this workshop; however, it is important to have a general idea of how a select few are different. (for much futher detailed explainations, please see the following list)\n",
    "\n",
    ">[Advances in optimizing Recurrent Networks by Yoshua Bengio, Section 3.5](http://arxiv.org/pdf/1212.0901v2.pdf)\n",
    "\n",
    ">[lya Sutskever’s thesis (pdf) contains a longer exposition of the topic in section 7.2](http://www.cs.utoronto.ca/~ilya/pubs/ilya_sutskever_phd_thesis.pdf)\n",
    "\n",
    ">[Adagrad, Duchi et al.](http://jmlr.org/papers/v12/duchi11a.html)\n",
    "\n",
    ">[slide 29 of Lecture 6 of Geoff Hinton’s Coursera class](http://www.cs.toronto.edu/~tijmen/csc321/slides/lecture_slides_lec6.pdf)\n",
    "\n",
    ">[Adam: A Method for Stochastic Optimization](http://arxiv.org/abs/1412.6980)\n",
    "\n",
    ">[Unit Tests for Stochastic Optimization](http://arxiv.org/abs/1312.6055)"
   ]
  },
  {
   "cell_type": "markdown",
   "metadata": {},
   "source": [
    "### Momentum"
   ]
  },
  {
   "cell_type": "markdown",
   "metadata": {},
   "source": [
    "**Momentum (SGD with a momentum parameter)**: This optimization strategy comes from the physical perspective of the optimization problem where one tries to mimic the process of simulating the parameter vector (i.e. a particle) as rolling on a physical landscape. In this view, setting a particle with zero initial velocity at a given location is the equivalent to initializing parameters with random numbers. We relate the force on the particle to the gradient and the force felt on that particle (acceleration) as the negative gradient of the loss function. Basically, this process will begin to build velocity in any direction that has consistent gradient."
   ]
  },
  {
   "cell_type": "code",
   "execution_count": null,
   "metadata": {
    "collapsed": true
   },
   "outputs": [],
   "source": [
    "# Momentum update\n",
    "v = 0.0 # starts at zero\n",
    "mu = 0.9 #[.5,.9,.99]\n",
    "v = mu * v - learning_rate * dx # integrate velocity\n",
    "x += v # integrate position\n",
    "\n",
    "# mxnet version\n",
    "mxnet.optimizer.SGD(momentum=0.9)"
   ]
  },
  {
   "cell_type": "markdown",
   "metadata": {},
   "source": [
    "### Nesterov Momentum"
   ]
  },
  {
   "cell_type": "markdown",
   "metadata": {},
   "source": [
    "**Nesterov Momentum (NAG - Nesterov Accelerated Gradient)** Differs from regular Momentum in that instead of evaluating the gradient at it's current position, we know that the momentum is going to carry us ahead to a certain position and therefore evaluate the gradient at that position instead (often called the look-ahead position). We know that with Momentum will push the gradient by a given force to a certain location. With Nesterov Momentum we evaluate the gradient at the vicinity of where we know the gradient will go rather than at the current position. In practice, people prefer to use Nesterov Momentum instead of regular Momentum."
   ]
  },
  {
   "cell_type": "code",
   "execution_count": null,
   "metadata": {
    "collapsed": true
   },
   "outputs": [],
   "source": [
    "# Nesterov Momentum update\n",
    "v = 0.0 # starts at zero\n",
    "mu = 0.9 #[.5,.9,.99]\n",
    "x_ahead = x + mu * v\n",
    "# evaluate dx_ahead (the gradient at x_ahead instead of at x)\n",
    "v = mu * v - learning_rate * dx_ahead\n",
    "x += v\n",
    "\n",
    "# mxnet version\n",
    "mxnet.optimizer.NAG(momentum=0.9)"
   ]
  },
  {
   "cell_type": "markdown",
   "metadata": {},
   "source": [
    "### Adagrad"
   ]
  },
  {
   "cell_type": "markdown",
   "metadata": {},
   "source": [
    "**Adagrad**: proposed by [Duchi et al.](http://jmlr.org/papers/v12/duchi11a.html). The thought process here is that the weights that receive high gradients will have their learning rate reduced and weights that receive small or infrequent updates will have their learning rate increased. A downside of this method is that it stops the network from learning due to it's hyper-aggressiveness."
   ]
  },
  {
   "cell_type": "code",
   "execution_count": null,
   "metadata": {
    "collapsed": true
   },
   "outputs": [],
   "source": [
    "# Adagrad\n",
    "# Assume the gradient dx and parameter vector x\n",
    "eps = 1e-7\n",
    "cache += dx**2\n",
    "x += - learning_rate * dx / (np.sqrt(cache) + eps)\n",
    "\n",
    "# mxnet version\n",
    "mxnet.optimizer.Adagrad()"
   ]
  },
  {
   "cell_type": "markdown",
   "metadata": {},
   "source": [
    "### RMSProp"
   ]
  },
  {
   "cell_type": "markdown",
   "metadata": {},
   "source": [
    "**RMSProp**: RMSProp adjusts Adagrad by using a moving average of squared gradients instead of squared gradients to reduce Adagrad's aggressive nature. In the code section below, please be sure to compare adagrad and rmsprop. Funnily enough, it has never been published, but instead always cited as [slide 29 of Lecture 6 of Geoff Hinton’s Coursera class](http://www.cs.toronto.edu/~tijmen/csc321/slides/lecture_slides_lec6.pdf).  "
   ]
  },
  {
   "cell_type": "code",
   "execution_count": null,
   "metadata": {
    "collapsed": true
   },
   "outputs": [],
   "source": [
    "#RMSProp\n",
    "eps = 1e-7\n",
    "cache = decay_rate * cache + (1 - decay_rate) * dx**2\n",
    "x += - learning_rate * dx / (np.sqrt(cache) + eps)\n",
    "\n",
    "# mxnet version\n",
    "mxnet.optimizer.RMSProp()"
   ]
  },
  {
   "cell_type": "markdown",
   "metadata": {},
   "source": [
    "### Adam"
   ]
  },
  {
   "cell_type": "markdown",
   "metadata": {},
   "source": [
    "**Adam**: Very similar to RMSProp except with a smoothing version of the gradient instead of its raw form. It also uses a bias correction mechanism to compensate for a 'cold-start' that happens before optimizer algorithms fully 'warm-up'. Adam is currently the recommended default algorithm to use."
   ]
  },
  {
   "cell_type": "code",
   "execution_count": null,
   "metadata": {
    "collapsed": true
   },
   "outputs": [],
   "source": [
    "#Adam\n",
    "eps = 1e-8\n",
    "beta1 = 0.9\n",
    "beta2 = 0.999\n",
    "m = 0.0\n",
    "v = 0.0\n",
    "m = beta1*m + (1-beta1)*dx # cold-start correction\n",
    "v = beta2*v + (1-beta2)*(dx**2) # cold-start correction\n",
    "x += - learning_rate * m / (np.sqrt(v) + eps)\n",
    "\n",
    "# mxnet version\n",
    "mxnet.optimizer.Adam()"
   ]
  },
  {
   "cell_type": "markdown",
   "metadata": {},
   "source": [
    "In the two gifs below, notice the speed of the various optimizers and keep in mind how one would have to augment learning rates to slow or speed up their progression. \n"
   ]
  },
  {
   "cell_type": "markdown",
   "metadata": {},
   "source": [
    "<img src='files/opt1.gif'>\n"
   ]
  },
  {
   "cell_type": "markdown",
   "metadata": {},
   "source": [
    "<img src='files/opt2.gif'>\n"
   ]
  },
  {
   "cell_type": "markdown",
   "metadata": {},
   "source": [
    "# Unit Tests before you start training"
   ]
  },
  {
   "cell_type": "code",
   "execution_count": 2,
   "metadata": {
    "collapsed": true,
    "scrolled": true
   },
   "outputs": [],
   "source": [
    "#############################################################\n",
    "## Set up our mxnet model to showcase the tips and tricks  \n",
    "#############################################################\n",
    "%matplotlib inline\n",
    "import mxnet as mx\n",
    "import numpy as np\n",
    "from sklearn.datasets import fetch_mldata\n",
    "from sklearn.decomposition import PCA\n",
    "import logging\n",
    "import matplotlib.pyplot as plt\n",
    "from sklearn.metrics import log_loss\n",
    "from mxnet.callback import log_train_metric"
   ]
  },
  {
   "cell_type": "markdown",
   "metadata": {},
   "source": [
    "Setting up a logger is a critical part of MXNet's interface. This logger allows you to receive callbacks on training information as well as error exceptions"
   ]
  },
  {
   "cell_type": "code",
   "execution_count": null,
   "metadata": {
    "collapsed": true
   },
   "outputs": [],
   "source": [
    "# call our logger\n",
    "logger = logging.getLogger()\n",
    "logger.setLevel(logging.DEBUG)"
   ]
  },
  {
   "cell_type": "markdown",
   "metadata": {},
   "source": [
    "Next we define our network. In our network, the 'input' to our computational graph is a symbolic variable for our data, usually this is simply named 'data' as well; symbolic variables are used such that during each iteration of training, a minibatch of data is assigned to that variable for computation. \n",
    "\n",
    "The ouput variable here is the SoftmaxOutput symbol. Recall from our Foundations chapter, this a multinomial logistic regression. Within MXNet, the Output variables handle the loss function as well, therefore, we won't need to define our own loss-function for computation"
   ]
  },
  {
   "cell_type": "code",
   "execution_count": null,
   "metadata": {
    "collapsed": true
   },
   "outputs": [],
   "source": [
    "# Network declaration as symbols.\n",
    "data = mx.symbol.Variable('data')\n",
    "fc1  = mx.symbol.FullyConnected(data = data, name='fc1', num_hidden=512)\n",
    "act1 = mx.symbol.Activation(data = fc1, name='relu1', act_type=\"relu\")\n",
    "fc2  = mx.symbol.FullyConnected(data = act1, name = 'fc2', num_hidden = 512)\n",
    "act2 = mx.symbol.Activation(data = fc2, name='relu2', act_type=\"relu\")\n",
    "fc3  = mx.symbol.FullyConnected(data = act2, name='fc3', num_hidden=10)\n",
    "mlp = mx.symbol.SoftmaxOutput(data=fc3, name='softmax')"
   ]
  },
  {
   "cell_type": "markdown",
   "metadata": {},
   "source": [
    "Now we'll fetch the MNIST dataset and perform PCA on the data to reduce our computational load. We'll also add a bit of noise to the data to make the model more robust to overfitting. After this step, we'll split the data into Training and Testing sets."
   ]
  },
  {
   "cell_type": "code",
   "execution_count": null,
   "metadata": {
    "collapsed": true
   },
   "outputs": [],
   "source": [
    "# Now we fetch MNIST dataset, add some noise, \n",
    "# permutate, and assign the examples to be used on our network\n",
    "mnist = fetch_mldata('MNIST original')\n",
    "mnist_pca = PCA(n_components=70).fit_transform(mnist.data)\n",
    "noise = np.random.normal(size=mnist_pca.shape)\n",
    "mnist_pca += noise\n",
    "np.random.seed(1234) # set seed for deterministic ordering\n",
    "p = np.random.permutation(mnist_pca.shape[0])\n",
    "X = mnist_pca[p]\n",
    "Y = mnist.target[p]\n",
    "X_show = mnist.data[p]\n",
    "\n",
    "# This is just to normalize the input to a value inside [0,1],\n",
    "# and separate train set and test set\n",
    "X = X.astype(np.float32)/255\n",
    "X_train = X[:60000]\n",
    "X_test = X[60000:]\n",
    "X_show = X_show[60000:]\n",
    "Y_train = Y[:60000]\n",
    "Y_test = Y[60000:]"
   ]
  },
  {
   "cell_type": "markdown",
   "metadata": {},
   "source": [
    "Here we assign our training and testing data to an MXNet specific iterator. This iterator is part of a [number of data iterator objects](http://mxnet.io/api/python/io.html#data-iterators) that are part of the MXNet libarary. After we assign our data to each iterator, we take a step to overwrite the 'name' of the data so there will be no naming collisions within the MXNet computational graph - NOTE: this step is done for versions <= 0.9.4. "
   ]
  },
  {
   "cell_type": "code",
   "execution_count": null,
   "metadata": {
    "collapsed": true
   },
   "outputs": [],
   "source": [
    "# set batch size\n",
    "batch_size = 200\n",
    "train_iter = mx.io.NDArrayIter(X_train, Y_train, batch_size=batch_size)\n",
    "test_iter = mx.io.NDArrayIter(X_test, Y_test, batch_size=batch_size)\n",
    "\n",
    "# A quick work around to prevent mxnet complaining the lack of a softmax_label (0.9.4 only)\n",
    "train_iter.label =  mx.io._init_data(Y_train, allow_empty=True, default_name='softmax_label')\n",
    "test_iter.label =  mx.io._init_data(Y_test, allow_empty=True, default_name='softmax_label')"
   ]
  },
  {
   "cell_type": "markdown",
   "metadata": {},
   "source": [
    "Lastly, we make use of the <code>mxnet.metric.EvalMetric</code> class that allows us to record feedback on the network we've defined. Here we're using <code>sklearn</code>'s implementation of <code>log_loss</code> in order to record how well our network is performing at each epoch"
   ]
  },
  {
   "cell_type": "code",
   "execution_count": null,
   "metadata": {
    "collapsed": true
   },
   "outputs": [],
   "source": [
    "# the cross-entropy loss function for mxnet evaluation callback\n",
    "class LogLoss(mx.metric.EvalMetric):\n",
    "    def __init__(self):\n",
    "        self.loss = []\n",
    "        super(LogLoss, self).__init__('LogLoss')\n",
    "\n",
    "    def update(self, labels, preds):\n",
    "        label_weight = labels[0].asnumpy()\n",
    "        preds = preds[0].asnumpy()\n",
    "        loss = log_loss(label_weight, preds)\n",
    "        self.loss.append(loss)\n",
    "        self.sum_metric += loss\n",
    "        self.num_inst += 1"
   ]
  },
  {
   "cell_type": "markdown",
   "metadata": {},
   "source": [
    "## Correct Loss value"
   ]
  },
  {
   "cell_type": "markdown",
   "metadata": {},
   "source": [
    "The first step we'll take in our Unit-testing is to make sure that we're getting the loss we expect when we define our network. With the MNIST dataset and a Softmax Classifier, for example, we expect the untrained loss to be 2.302. This is because we expect a probability output for 0.1 for each class (10 classes) and because Softmax loss is the negative log probability of the correct class, -ln(0.1) = 2.302. So here we'll test a few initialization strategies to ensure we're picking the correct strategy when we finally start training"
   ]
  },
  {
   "cell_type": "code",
   "execution_count": 30,
   "metadata": {},
   "outputs": [
    {
     "name": "stdout",
     "output_type": "stream",
     "text": [
      "Initialization using Xavier\n",
      "Untrained predictions (should be close to .1)\n",
      "[0.10522023, 0.10625023, 0.10988785, 0.089549445, 0.091543011, 0.08146327, 0.077686548, 0.091829546, 0.15389612, 0.092673771]\n",
      "Mean prediction 0.10000000149, prediction std 0.0244382936507\n",
      "Total Data Loss: 2.32725609273\n",
      "\n",
      "\n",
      "Initialization using Kaiming Normal\n",
      "Untrained predictions (should be close to .1)\n",
      "[0.10743047, 0.096293211, 0.10858989, 0.093776748, 0.098764867, 0.10363301, 0.093996167, 0.090252951, 0.10381297, 0.10344975]\n",
      "Mean prediction 0.100000008941, prediction std 0.00731063494459\n",
      "Total Data Loss: 2.29337943423\n",
      "\n",
      "\n",
      "Initialization using Orthogonal - 0.25\n",
      "Untrained predictions (should be close to .1)\n",
      "[0.10006409, 0.10023994, 0.099764697, 0.099924028, 0.10011359, 0.099741556, 0.1001128, 0.099977002, 0.099773407, 0.10028884]\n",
      "Mean prediction 0.099999986589, prediction std 0.000210285143112\n",
      "Total Data Loss: 2.30286796756\n",
      "\n",
      "\n"
     ]
    }
   ],
   "source": [
    "def test_init_strategy(strategy, text):\n",
    "    # Here we instatiate the model for our data\n",
    "    model = mx.mod.Module(\n",
    "        mlp,                             # Use the network we just defined\n",
    "        context = mx.cpu(0),             # Run on CPU 0\n",
    "        data_names = ['data'],           # Provide the name of 'data'\n",
    "        label_names = ['softmax_label'], # Provide the name of 'label\n",
    "        )\n",
    "    # bind the correct shapes\n",
    "    model.bind(data_shapes=train_iter.provide_data,\n",
    "               label_shapes=train_iter.provide_label)\n",
    "\n",
    "    # manually init the params\n",
    "    model.init_params(strategy)\n",
    "\n",
    "    # output the entire test dataset\n",
    "    output = model.predict(test_iter).asnumpy()\n",
    "    \n",
    "    print(\"Initialization using {}\".format(text))\n",
    "    \n",
    "    print(\"Untrained predictions (should be close to .1)\")\n",
    "    print(list(output[0]))\n",
    "    \n",
    "    print(\"Mean prediction {}, prediction std {}\".format(np.mean(output),np.std(output)))\n",
    "    \n",
    "    data_loss = log_loss(Y_test, output)\n",
    "    print(\"Total Data Loss: {}\".format(data_loss))\n",
    "    print(\"\\n\")\n",
    "\n",
    "\n",
    "test_init_strategy(mx.initializer.Xavier(), 'Xavier')\n",
    "\n",
    "test_init_strategy(mx.initializer.Xavier(rnd_type='uniform', factor_type='in', magnitude=1), 'Kaiming Normal')\n",
    "    \n",
    "test_init_strategy(mx.initializer.Orthogonal(0.25), 'Orthogonal - 0.25')\n",
    "\n"
   ]
  },
  {
   "cell_type": "markdown",
   "metadata": {},
   "source": [
    "## Overfitting test"
   ]
  },
  {
   "cell_type": "markdown",
   "metadata": {},
   "source": [
    "Before we start training on thefull dataset, we'll try to train on a tiny portion of our data (setting regularization to zero again) and make sure we can achieve zero cost. Before, however, we want to make sure our sample data is error and bug free, otherwise we'll pass this test and not be able to generalize to the larger dataset.  \n",
    "\n",
    "One should peform the overfitting test prior to each new dataset being tested. Unless we can accomplish zero cost, we don't want to waste our time training a model for weeks only to find out it can't fit the data."
   ]
  },
  {
   "cell_type": "code",
   "execution_count": null,
   "metadata": {
    "collapsed": true
   },
   "outputs": [],
   "source": [
    "#############################################################\n",
    "## This will take a long time ----- so please don't run   ##\n",
    "#############################################################\n",
    "\n",
    "def perform_overfitting_test(mlp, X_train, Y_train, batch_size=50):\n",
    "    # create new dataset from last 100 examples\n",
    "    overfit_train_iter = mx.io.NDArrayIter(X_train[-100:], Y_train[-100:], batch_size=batch_size)\n",
    "    # A quick work around to prevent mxnet complaining the lack of a softmax_label\n",
    "    overfit_train_iter.label =  mx.io._init_data(Y_train[-100:], allow_empty=True, default_name='softmax_label')\n",
    "\n",
    "    # Here we instatiate the model for our data\n",
    "    model = mx.mod.Module(\n",
    "        mlp,                             # Use the network we just defined\n",
    "        context = mx.cpu(0),             # Run on CPU 0\n",
    "        data_names = ['data'],           # Provide the name of 'data'\n",
    "        label_names = ['softmax_label'], # Provide the name of 'label\n",
    "        )\n",
    "    # bind the shapes to the module\n",
    "    model.bind(data_shapes=overfit_train_iter.provide_data,\n",
    "               label_shapes=overfit_train_iter.provide_label)\n",
    "\n",
    "    # call fit to make sure you can achieve 0 loss\n",
    "    model.fit(\n",
    "        train_data = overfit_train_iter,\n",
    "        num_epoch = 5000,\n",
    "        eval_metric = LogLoss(),\n",
    "        initializer = mx.init.Orthogonal(0.25),\n",
    "        optimizer_params = {'learning_rate':0.1, 'momentum': 0.9, 'wd':0.00001},\n",
    "        batch_end_callback = log_train_metric(500),\n",
    "    )\n",
    "    \n",
    "    "
   ]
  },
  {
   "cell_type": "markdown",
   "metadata": {},
   "source": [
    "## Gradient Checks"
   ]
  },
  {
   "cell_type": "markdown",
   "metadata": {
    "collapsed": true
   },
   "source": [
    "It's also very important to peform gradient checks on the model you've built. A gradient check is where one compares the analytic gradient to the numeric gradient. Under the hood, many things are taken care of, but it's important to know why these things are happening:\n",
    "\n",
    "Gradient checking involes using the **centered difference formula** to evaluate the numeric gradient\n",
    "\n",
    "   $$\\frac{df(x)}{dx} = \\frac{f(x + h) - f(x - h)}{2h} \\hspace{0.1in}$$\n",
    "\n",
    "and the **relative error** between the numeric and analytic gradients\n",
    "\n",
    "$$\\frac{\\mid f'_a - f'_n \\mid}{\\max(\\mid f'_a \\mid, \\mid f'_n \\mid)}$$\n",
    "\n",
    "which considers their ratio of the differences to the ratio of the absolute values of both gradients. In practice:\n",
    "\n",
    "* relative error > 1e-2 usually means the gradient is probably wrong\n",
    "* 1e-2 > relative error > 1e-4 should make you feel uncomfortable\n",
    "* 1e-4 > relative error is usually okay for objectives with kinks. But if there are no kinks (e.g. use of tanh nonlinearities and softmax), then 1e-4 is too high.\n",
    "* 1e-7 and less you should be happy.\n",
    "\n",
    "The deeper the network, the higher the relative errors will be. For example, a single differentiable function with an error of 1e-2 indicates an incorrect gradient, however, for a deep 100 layer network, a relative error of around 1e-2 might be okay because the errors build up on the way. \n",
    "\n",
    "Important points to consider when performing Gradient Checks:\n",
    "\n",
    "**Use double precision.** Thankfully, MXNet takes care of this for you, but a common mistake in the past that many scientists make is using single precision floating point to compute gradient check. Often, you will get high relative errors, even with a correct gradient implementation.\n",
    "\n",
    "**Always print the raw numerical/analytic gradient,** and make sure that the numbers you are comparing are not extremely small. Andre Karpathy recommends scaling your loss function by some constant to bring them into what he calls a 'nicer' range where floats are 'more dense' - ideally on the order of 1.0, where your float exponent is 0.\n",
    "\n",
    "**Beware of non-differentiable parts of an objective function**, introduced by functions such as ReLU (max(0,x). Consider the case of the ReLU (x < 0) if x-=1e6: the analytic gradient is exactly zero. However, the numeric gradient might compute a non-zero gradient if the area during numeric computation crosses over the non-differentiable portion of the function; $f(x+h)$ if $h > 1e-6$.\n",
    "\n",
    "**Using a few datapoints.**: Using very few datapoints makes your gradient check faster and more efficient.\n",
    "\n",
    "**Burn in period**. It is best to use a short burn-in period after the network has been allowed to learn and the loss starts to go down. If the gradient check is performed at first iteration, it could mask an incorrect implementation of the gradient.\n",
    "\n",
    "**Turn off Regularization if you're using it**: a loss function is a sum of the data loss and the regularization loss (e.g. L2 penalty on weights). Sometimes the regularization loss may overwhelm the data loss, in which case the gradients will be primarily coming from the regularization term. This can mask an incorrect implementation of the data loss gradient. Also be sure to turn off dropout/data augmentations.\n",
    "\n",
    "Lastly, **Make sure to gradient check a few dimensions for every separate parameter**\n",
    "\n",
    "\n",
    "# ***Thankfully, MXNet (as well as other modern DL libraries) has the above built-in to make gradient checking a lot easier on the user.***"
   ]
  },
  {
   "cell_type": "code",
   "execution_count": null,
   "metadata": {
    "collapsed": true
   },
   "outputs": [],
   "source": [
    "#############################################################\n",
    "## This will kill the jupyter kernel -- so please don't run #\n",
    "#############################################################\n",
    "\n",
    "from mxnet.test_utils import check_numeric_gradient\n",
    "from copy import deepcopy\n",
    "\n",
    "\n",
    "def perform_gradient_test(mlp, X_train, Y_train):\n",
    "    # create new dataset from last 10 examples\n",
    "    overfit_train_iter = mx.io.NDArrayIter(X_train[-10:], \n",
    "                                           Y_train[-10:], \n",
    "                                           batch_size=10)\n",
    "    \n",
    "    # A quick work around to prevent mxnet complaining the lack of a softmax_label\n",
    "    overfit_train_iter.label =  mx.io._init_data(Y_train[-10:], \n",
    "                                    allow_empty=True, \n",
    "                                    default_name='softmax_label')\n",
    "\n",
    "    # Here we instatiate the model for our data\n",
    "    model = mx.mod.Module(\n",
    "        mlp,                             # Use the network we just defined\n",
    "        context = mx.cpu(0),             # Run on CPU 0\n",
    "        data_names = ['data'],           # Provide the name of 'data'\n",
    "        label_names = ['softmax_label'], # Provide the name of 'label\n",
    "        )\n",
    "    # bind the shapes to the module\n",
    "    model.bind(data_shapes=overfit_train_iter.provide_data,\n",
    "               label_shapes=overfit_train_iter.provide_label)\n",
    "    \n",
    "    # call fit to burn-in the model\n",
    "    model.fit(\n",
    "        train_data = overfit_train_iter,\n",
    "        num_epoch = 500,\n",
    "        eval_metric = LogLoss(),\n",
    "        initializer = mx.initializer.Xavier(),\n",
    "        optimizer_params = {'learning_rate':0.1, 'momentum': 0.9, 'wd':0.00001},\n",
    "        batch_end_callback = log_train_metric(500),\n",
    "    )\n",
    "    \n",
    "    # copy the model's parameters and inject the variables for \n",
    "    # 'data' and 'softmax_label'\n",
    "    parameters = deepcopy(model.get_params()[0])\n",
    "    parameters['data'] = overfit_train_iter.getdata()[0]\n",
    "    parameters['softmax_label'] = overfit_train_iter.getlabel()[0]\n",
    "\n",
    "    # perform gradient check\n",
    "    check_numeric_gradient(mlp, parameters)\n",
    "\n",
    "\n",
    "# you should see something similar to this below if there is something wrong\n",
    "\n",
    "\"\"\"\n",
    "---------------------------------------------------------------------------\n",
    "AssertionError                            Traceback (most recent call last)\n",
    "<ipython-input-191-150091434937> in <module>()\n",
    "----> 1 check_numeric_gradient(mlp,parameters)\n",
    "\n",
    "/Users/krzum/anaconda3/envs/ml/lib/python2.7/site-packages/mxnet-0.9.5-py2.7.egg/mxnet/test_utils.pyc in check_numeric_gradient(sym, location, aux_states, numeric_eps, rtol, atol, grad_nodes, use_forward_train, ctx)\n",
    "    518         if grad_req[name] == 'write':\n",
    "    519             assert_almost_equal(fd_grad, sym_grad, rtol, atol,\n",
    "--> 520                                 (\"NUMERICAL_%s\"%name, \"BACKWARD_%s\"%name))\n",
    "    521         elif grad_req[name] == 'add':\n",
    "    522             assert_almost_equal(fd_grad, sym_grad - orig_grad, rtol, atol,\n",
    "\n",
    "/Users/krzum/anaconda3/envs/ml/lib/python2.7/site-packages/mxnet-0.9.5-py2.7.egg/mxnet/test_utils.pyc in assert_almost_equal(a, b, rtol, atol, names)\n",
    "    149                             % (rel, rtol, atol, str(index), a[index], b[index]),\n",
    "    150                             names=names)\n",
    "--> 151     raise AssertionError(msg)\n",
    "    152 \n",
    "    153 \n",
    "\n",
    "AssertionError: \n",
    "Items are not equal:\n",
    "Error 1521893.750000 exceeds tolerance rtol=0.010000, atol=0.000000.  Location of maximum error:(110, 56), a=0.000121, b=-0.000000\n",
    " NUMERICAL_data: array([[ 0.00000001, -0.        , -0.00000001, ...,  0.        ,\n",
    "        -0.        ,  0.00000001],\n",
    "       [ 0.00000446, -0.00000987,  0.00000123, ...,  0.00000095,...\n",
    " BACKWARD_data: array([[-0.        , -0.00000001, -0.        , ..., -0.        ,\n",
    "         0.        ,  0.        ],\n",
    "       [ 0.00000526, -0.0000118 ,  0.00000154, ...,  0.00000116,...\n",
    "\"\"\"\n"
   ]
  },
  {
   "cell_type": "markdown",
   "metadata": {},
   "source": [
    "## Inspecting the Learning Rate"
   ]
  },
  {
   "cell_type": "markdown",
   "metadata": {},
   "source": [
    "After we've performed the above steps, the next step is to inspect our loss function to ensure our optimizer and loss function parameters are chosen correctly. It's important to plot the slope of the loss function to ensure the network is learning properly. The below image is a general heuristic we use to evaluate that our initial learning rate is being chosen properly. \n",
    "\n",
    "<img src='files/learningrates.jpeg'>"
   ]
  },
  {
   "cell_type": "code",
   "execution_count": 9,
   "metadata": {},
   "outputs": [
    {
     "name": "stderr",
     "output_type": "stream",
     "text": [
      "WARNING:root:Already bound, ignoring bind()\n",
      "INFO:root:Iter[0] Batch[0] Train-LogLoss=2.302891\n",
      "INFO:root:Epoch[0] Train-LogLoss=0.535295\n",
      "INFO:root:Epoch[0] Time cost=1.937\n",
      "INFO:root:Epoch[0] Validation-LogLoss=0.130427\n",
      "INFO:root:Iter[1] Batch[0] Train-LogLoss=0.159358\n",
      "INFO:root:Epoch[1] Train-LogLoss=0.103304\n",
      "INFO:root:Epoch[1] Time cost=1.901\n",
      "INFO:root:Epoch[1] Validation-LogLoss=0.087567\n",
      "INFO:root:Iter[2] Batch[0] Train-LogLoss=0.112749\n",
      "INFO:root:Epoch[2] Train-LogLoss=0.069140\n",
      "INFO:root:Epoch[2] Time cost=2.147\n",
      "INFO:root:Epoch[2] Validation-LogLoss=0.074296\n"
     ]
    },
    {
     "data": {
      "text/plain": [
       "[<matplotlib.lines.Line2D at 0x11a0afe90>]"
      ]
     },
     "execution_count": 9,
     "metadata": {},
     "output_type": "execute_result"
    },
    {
     "data": {
      "image/png": "[encoded data removed]",
      "text/plain": [
       "<matplotlib.figure.Figure at 0x11c308450>"
      ]
     },
     "metadata": {},
     "output_type": "display_data"
    }
   ],
   "source": [
    "# Here we instatiate the model for our data\n",
    "model = mx.mod.Module(\n",
    "    mlp,                             # Use the network we just defined\n",
    "    context = mx.cpu(0),             # Run on CPU 0\n",
    "    data_names = ['data'],           # Provide the name of 'data'\n",
    "    label_names = ['softmax_label'], # Provide the name of 'label\n",
    "    )\n",
    "# bind the shapes to the module\n",
    "model.bind(data_shapes=train_iter.provide_data,\n",
    "           label_shapes=train_iter.provide_label)\n",
    "\n",
    "# initialize the logloss evaluation metric\n",
    "cross_entropy_evaluator = LogLoss()\n",
    "\n",
    "# call fit to make sure you can achieve 0 loss\n",
    "model.fit(\n",
    "    train_data = train_iter,\n",
    "    eval_data = test_iter,\n",
    "    num_epoch = 3,\n",
    "    eval_metric = cross_entropy_evaluator,\n",
    "    initializer = mx.init.Orthogonal(0.25),\n",
    "    optimizer_params = {'learning_rate':0.1, 'momentum': 0.9, 'wd':0.00001},\n",
    "    batch_end_callback = log_train_metric(500),\n",
    ")\n",
    "\n",
    "plt.plot(cross_entropy_evaluator.loss)"
   ]
  },
  {
   "cell_type": "markdown",
   "metadata": {},
   "source": [
    "## Learning rate annealing"
   ]
  },
  {
   "cell_type": "markdown",
   "metadata": {},
   "source": [
    "After we've established a first learning rate, we must now decide if we put the learning rate on a type of decay-schedule, especially if we have larger models. This is done because sometimes the model is not able to reach the true minimum of the loss due to the step size being large and the gradient not being able to settle down into narrower parts of the loss function. \n",
    "\n",
    "One common way people deal with the above problem is to anneal the learning rate is via some sort of step decay where one simply reduces the learning rate every $n$ steps. One simple heuristic is to reduce the learning rate in half when improvement on the validation set stops. Problems can still arise, however. If decay your learning rate too slowly, you'll  proceed with very little improvement in loss reduction as the gradient will bounce around unable to get into the smaller crevasses and if you decay to aggressively, you'll waste computation time simply moving too slowly.\n",
    "\n",
    "MXNet gives you an easy package to implement your learning rate strategies, found in the <code>mxnet.lr_scheduler.LRScheduler</code> class. In order to implement the common decay strategy, we'll use the <code>FactorScheduler</code> to decay our learning rate by <code>base_lr * pow(factor, floor(num_update/step))</code>"
   ]
  },
  {
   "cell_type": "code",
   "execution_count": null,
   "metadata": {
    "collapsed": true
   },
   "outputs": [],
   "source": [
    "# Reduce the learning rate by a factor for every *n* steps.\n",
    "# It returns a new learning rate by::\n",
    "# base_lr * pow(factor, floor(num_update/step))\n",
    "lr_scheduler = mx.lr_scheduler.FactorScheduler(\n",
    "                    step = 5000,\n",
    "                    factor = 0.1)\n",
    "\n",
    "# initialize the logloss evaluation metric\n",
    "cross_entropy_evaluator = LogLoss()\n",
    "\n",
    "# fit our model\n",
    "model.fit(\n",
    "    train_data = train_iter,\n",
    "    eval_data = test_iter,\n",
    "    num_epoch = 10,\n",
    "    eval_metric = cross_entropy_evaluator,\n",
    "    initializer = mx.init.Orthogonal(0.25),\n",
    "    optimizer_params = {'learning_rate':0.1, 'momentum': 0.9,\n",
    "                        ##### Learning Rate Sheduling ######\n",
    "                        'lr_scheduler': lr_scheduler},\n",
    "    batch_end_callback = log_train_metric(500),\n",
    ")"
   ]
  },
  {
   "cell_type": "markdown",
   "metadata": {},
   "source": [
    "# Putting it all together"
   ]
  },
  {
   "cell_type": "markdown",
   "metadata": {},
   "source": [
    "Below is a full implementation of the all the steps we've discussed so far."
   ]
  },
  {
   "cell_type": "code",
   "execution_count": 34,
   "metadata": {},
   "outputs": [
    {
     "name": "stderr",
     "output_type": "stream",
     "text": [
      "WARNING:root:Already bound, ignoring bind()\n",
      "INFO:root:Iter[0] Batch[0] Train-LogLoss=2.302969\n",
      "INFO:root:Epoch[0] Train-LogLoss=0.360535\n",
      "INFO:root:Epoch[0] Time cost=5.490\n",
      "INFO:root:Epoch[0] Validation-LogLoss=0.121222\n",
      "INFO:root:Iter[1] Batch[0] Train-LogLoss=0.130813\n",
      "INFO:root:Epoch[1] Train-LogLoss=0.094354\n",
      "INFO:root:Epoch[1] Time cost=4.320\n",
      "INFO:root:Epoch[1] Validation-LogLoss=0.082275\n",
      "INFO:root:Iter[2] Batch[0] Train-LogLoss=0.096660\n",
      "INFO:root:Epoch[2] Train-LogLoss=0.060938\n",
      "INFO:root:Epoch[2] Time cost=8.021\n",
      "INFO:root:Epoch[2] Validation-LogLoss=0.073913\n",
      "INFO:root:Iter[3] Batch[0] Train-LogLoss=0.075060\n",
      "INFO:root:Epoch[3] Train-LogLoss=0.042938\n",
      "INFO:root:Epoch[3] Time cost=5.375\n",
      "INFO:root:Epoch[3] Validation-LogLoss=0.069780\n",
      "INFO:root:Iter[4] Batch[0] Train-LogLoss=0.058862\n",
      "INFO:root:Epoch[4] Train-LogLoss=0.030366\n",
      "INFO:root:Epoch[4] Time cost=3.296\n",
      "INFO:root:Epoch[4] Validation-LogLoss=0.066718\n",
      "INFO:root:Iter[5] Batch[0] Train-LogLoss=0.038986\n",
      "INFO:root:Epoch[5] Train-LogLoss=0.021025\n",
      "INFO:root:Epoch[5] Time cost=3.871\n",
      "INFO:root:Epoch[5] Validation-LogLoss=0.064498\n",
      "INFO:root:Iter[6] Batch[0] Train-LogLoss=0.027413\n",
      "INFO:root:Epoch[6] Train-LogLoss=0.015761\n",
      "INFO:root:Epoch[6] Time cost=4.447\n",
      "INFO:root:Epoch[6] Validation-LogLoss=0.069684\n",
      "INFO:root:Iter[7] Batch[0] Train-LogLoss=0.015622\n",
      "INFO:root:Epoch[7] Train-LogLoss=0.014998\n",
      "INFO:root:Epoch[7] Time cost=4.965\n",
      "INFO:root:Epoch[7] Validation-LogLoss=0.078902\n",
      "INFO:root:Iter[8] Batch[0] Train-LogLoss=0.035286\n",
      "INFO:root:Epoch[8] Train-LogLoss=0.013211\n",
      "INFO:root:Epoch[8] Time cost=5.314\n",
      "INFO:root:Epoch[8] Validation-LogLoss=0.089004\n",
      "INFO:root:Iter[9] Batch[0] Train-LogLoss=0.022633\n",
      "INFO:root:Epoch[9] Train-LogLoss=0.013171\n",
      "INFO:root:Epoch[9] Time cost=5.595\n",
      "INFO:root:Epoch[9] Validation-LogLoss=0.090771\n",
      "INFO:root:Iter[10] Batch[0] Train-LogLoss=0.009464\n",
      "INFO:root:Epoch[10] Train-LogLoss=0.011697\n",
      "INFO:root:Epoch[10] Time cost=7.828\n",
      "INFO:root:Epoch[10] Validation-LogLoss=0.095450\n"
     ]
    },
    {
     "data": {
      "image/png": "[encoded data removed]",
      "text/plain": [
       "<matplotlib.figure.Figure at 0x118ef2c90>"
      ]
     },
     "metadata": {},
     "output_type": "display_data"
    },
    {
     "name": "stdout",
     "output_type": "stream",
     "text": [
      "Predicted Result: 7\n"
     ]
    }
   ],
   "source": [
    "#############################################################\n",
    "## Set up our mxnet model to showcase the tips and tricks  ##\n",
    "#############################################################\n",
    "%matplotlib inline\n",
    "import mxnet as mx\n",
    "import numpy as np\n",
    "from sklearn.datasets import fetch_mldata\n",
    "from sklearn.decomposition import PCA\n",
    "import logging\n",
    "import matplotlib.pyplot as plt\n",
    "from sklearn.metrics import log_loss\n",
    "from mxnet.callback import log_train_metric\n",
    "\n",
    "# call our logger\n",
    "logger = logging.getLogger()\n",
    "logger.setLevel(logging.DEBUG)\n",
    "\n",
    "# Network declaration as symbols.\n",
    "data = mx.symbol.Variable('data')\n",
    "fc1  = mx.symbol.FullyConnected(data = data, name='fc1', num_hidden=512)\n",
    "act1 = mx.symbol.Activation(data = fc1, name='relu1', act_type=\"relu\")\n",
    "fc2  = mx.symbol.FullyConnected(data = act1, name = 'fc2', num_hidden = 512)\n",
    "act2 = mx.symbol.Activation(data = fc2, name='relu2', act_type=\"relu\")\n",
    "fc3  = mx.symbol.FullyConnected(data = act2, name='fc3', num_hidden=10)\n",
    "mlp = mx.symbol.SoftmaxOutput(data=fc3, name='softmax')\n",
    "\n",
    "# Now we fetch MNIST dataset, add some noise, \n",
    "# permutate, and assign the examples to be used on our network\n",
    "mnist = fetch_mldata('MNIST original')\n",
    "mnist_pca = PCA(n_components=70).fit_transform(mnist.data)\n",
    "noise = np.random.normal(size=mnist_pca.shape)\n",
    "mnist_pca += noise\n",
    "np.random.seed(1234) # set seed for deterministic ordering\n",
    "p = np.random.permutation(mnist_pca.shape[0])\n",
    "X = mnist_pca[p]\n",
    "Y = mnist.target[p]\n",
    "X_show = mnist.data[p]\n",
    "\n",
    "# This is just to normalize the input to a value inside [0,1],\n",
    "# and separate train set and test set\n",
    "X = X.astype(np.float32)/255\n",
    "X_train = X[:60000]\n",
    "X_test = X[60000:]\n",
    "X_show = X_show[60000:]\n",
    "Y_train = Y[:60000]\n",
    "Y_test = Y[60000:]\n",
    "\n",
    "# set batch size\n",
    "batch_size = 200\n",
    "train_iter = mx.io.NDArrayIter(X_train, Y_train, batch_size=batch_size)\n",
    "test_iter = mx.io.NDArrayIter(X_test, Y_test, batch_size=batch_size)\n",
    "\n",
    "# A quick work around to prevent mxnet complaining the lack of a softmax_label (0.9.4 only)\n",
    "train_iter.label =  mx.io._init_data(Y_train, allow_empty=True, default_name='softmax_label')\n",
    "test_iter.label =  mx.io._init_data(Y_test, allow_empty=True, default_name='softmax_label')\n",
    "\n",
    "# the cross-entropy loss function for mxnet evaluation callback\n",
    "class LogLoss(mx.metric.EvalMetric):\n",
    "    def __init__(self):\n",
    "        self.loss = []\n",
    "        super(LogLoss, self).__init__('LogLoss')\n",
    "\n",
    "    def update(self, labels, preds):\n",
    "        label_weight = labels[0].asnumpy()\n",
    "        preds = preds[0].asnumpy()\n",
    "        loss = log_loss(label_weight, preds)\n",
    "        self.loss.append(loss)\n",
    "        self.sum_metric += loss\n",
    "        self.num_inst += 1\n",
    "\n",
    "\n",
    "# Here we instatiate the model for our data\n",
    "model = mx.mod.Module(\n",
    "    mlp,                             # Use the network we just defined\n",
    "    context = mx.cpu(0),             # Run on CPU 0\n",
    "    data_names = ['data'],           # Provide the name of 'data'\n",
    "    label_names = ['softmax_label'], # Provide the name of 'label\n",
    "    )\n",
    "\n",
    "# bind the shapes to the module\n",
    "model.bind(data_shapes=train_iter.provide_data,\n",
    "           label_shapes=train_iter.provide_label)\n",
    "\n",
    "# initialize the logloss evaluation metric\n",
    "cross_entropy_evaluator = LogLoss()\n",
    "\n",
    "# learning rate scheduler            \n",
    "lr_scheduler = mx.lr_scheduler.FactorScheduler(\n",
    "                    step = 5000,\n",
    "                    factor = 0.1)\n",
    "\n",
    "# fit the model - notice the first loss is \n",
    "#\"INFO:root:Iter[0] Batch[0] Train-LogLoss=2.302969\", right where\n",
    "# we want it to be\n",
    "model.fit(\n",
    "    train_data = train_iter,                    # Define training data\n",
    "    eval_data = test_iter,                      # Define testing/evaluation data\n",
    "    num_epoch = 11,                             # 10 training epochs\n",
    "    eval_metric = cross_entropy_evaluator,      # use Cross Entropy as the eval metric\n",
    "    initializer = mx.init.Orthogonal(0.25),     # Use an Orthogonal initializer for our weights\n",
    "    optimizer = 'adam',                         # Use Adam as our optimizer\n",
    "    optimizer_params = {                        # Define our optimizer's params\n",
    "        'learning_rate':0.0009,                 # Start the learning rate at .1\n",
    "        'wd':0.00001,                           # Set the weight decay\n",
    "        'lr_scheduler': lr_scheduler            # User our learning rate scheduler\n",
    "    },\n",
    "    batch_end_callback = log_train_metric(500), # Use the callback function to tell us \n",
    ")                                               # how well the model is performing after each epoch\n",
    "\n",
    "# show the data\n",
    "plt.imshow((X_show[0].reshape((28,28))*255).astype(np.uint8), cmap='Greys_r')\n",
    "plt.show()\n",
    "print('Predicted Result: {}'.format(model.predict(test_iter)[0].asnumpy().argmax()))"
   ]
  }
 ],
 "metadata": {
  "kernelspec": {
   "display_name": "Python 2",
   "language": "python",
   "name": "python2"
  },
  "language_info": {
   "codemirror_mode": {
    "name": "ipython",
    "version": 2
   },
   "file_extension": ".py",
   "mimetype": "text/x-python",
   "name": "python",
   "nbconvert_exporter": "python",
   "pygments_lexer": "ipython2",
   "version": "2.7.13"
  }
 },
 "nbformat": 4,
 "nbformat_minor": 2
}
