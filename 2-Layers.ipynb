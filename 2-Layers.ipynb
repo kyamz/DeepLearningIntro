{
 "cells": [
  {
   "cell_type": "markdown",
   "metadata": {},
   "source": [
    "# Layers\n",
    "\n",
    "\n",
    "### Contents"
   ]
  },
  {
   "cell_type": "markdown",
   "metadata": {
    "collapsed": true
   },
   "source": [
    "* [Fully Connected Layer](#Fully-Connected-Layer)\n",
    "* [Convolutional Layers](#Convolutional-Layer)\n",
    "    * [Convolutional Layers in MXNet](#Convolutional-Layers-in-MXNet)\n",
    "* [Pooling](#Pooling)\n",
    "    * [Pooling in MXNet](#Pooling-in-MXNet)\n",
    "* [RNN and LSTMs](#RNN-and-LSTMs)\n",
    "    * [LSTMS](#LSTMS)\n",
    "    * [LSTMS in MXNet](#LSTMS-in-MXNet)\n",
    "* [Embedding Layers](#Embedding-Layers)\n",
    "    * [Embedding Layers in MXNet](#Embedding-Layers-in-MXNet)   \n",
    "* [Batch Normalization Layers](#Batch-Normalization-Layers)\n",
    "    * [Batch Normalization Layers in MXNet](#Batch-Normalization-Layers-in-MXNet)    \n",
    "* [Dropout Layers](#Dropout-Layers)\n",
    "    * [Dropout Layers in MXNet](#Dropout-Layers-in-MXNet)"
   ]
  },
  {
   "cell_type": "markdown",
   "metadata": {},
   "source": [
    "# Fully Connected Layer"
   ]
  },
  {
   "cell_type": "markdown",
   "metadata": {},
   "source": [
    "A fully connected layer has full connections to all activations in the previous layer. When we defined layers as $W$ in previous chapters, a 'fully connected' layer is what $W$ refers to."
   ]
  },
  {
   "cell_type": "code",
   "execution_count": 2,
   "metadata": {
    "collapsed": true
   },
   "outputs": [],
   "source": [
    "import mxnet as mx\n",
    "\n",
    "batch_size = 15\n",
    "\n",
    "data = mx.sym.Variable('data',shape=[batch_size,100])\n",
    "\n",
    "fc = mx.sym.FullyConnected(data = data, name='fc1', num_hidden=100)"
   ]
  },
  {
   "cell_type": "markdown",
   "metadata": {},
   "source": [
    "# Convolutional Layer"
   ]
  },
  {
   "cell_type": "markdown",
   "metadata": {
    "collapsed": true
   },
   "source": [
    "The CONV layer’s parameters consist of a set of learnable filters based on [the convolutional function](https://en.wikipedia.org/wiki/Convolution). \n",
    "\n",
    "During the forward operation, we slide each filter across the width and height of the input volume and compute dot products between the entries of the filter and the input at any position.\n",
    " \n",
    "<img src='files/conv.png'> \n",
    " \n",
    "This example might look scary but it's not. During the learning, our goal is to learn filters similar to the ones below.  \n",
    " \n",
    "<img src='files/filters.png'>\n",
    "\n",
    "The end result are learned filters that might look like this\n",
    "\n",
    "<img src='files/weights.jpeg'>\n",
    "\n",
    "\n",
    "The goal of convolutions in NNs are to learn filters like these\n",
    "\n",
    "\n",
    "Convolution preserves the spatial relationship between pixels by learning image features using small squares of input data. \n",
    "\n",
    "\n",
    "Three important hyperparameters to consider:\n",
    "\n",
    "\n",
    "    1) Depth of the output volume (batch size, height, width, depth) equates directly to the number of filters used in the convolutional layer. Note: each filter is itself a hyperparameter, and in this case, is looking for something separate and distinct within the input.\n",
    "\n",
    "    2) Setting the stride size can dictate the volume size of the output. Setting the stride to 1 moves the filters over one pixel at a time, setting the stride to 2 moves the filters over 2 pixels at a time, etc. Thus, setting the stride to a larger pixel jump results in a smaller volumes spatially. \n",
    "\n",
    "    3) Padding the input is a convenient way to control the size of the output volume. \n",
    "\n",
    "\n",
    "Convolution Arithmetic to ensure that all hyperparameters 'fit':\n",
    "\n",
    "    Number of filters (K)\n",
    "    Input volume size (W)\n",
    "    Kernal size (F)\n",
    "    Stride length (S)\n",
    "    Pad on border (P)\n",
    "    Fit = (W−F+2P)/S+1\n",
    "\n",
    "Together these parameters produces a volume of size W2×H2×D2 where:\n",
    "\n",
    "    W2=(W1−F+2P)/S+1\n",
    "    H2=(H1−F+2P)/S+1 (i.e. width and height are computed equally by symmetry)\n",
    "    D2=K\n",
    "\n",
    "A note on 'fit': if the fit is not an integer, than the hyperparameter choices won't work. \n",
    "\n",
    "Formally: The n-th depth slice (size W2×H2) is the result of performing a valid convolution of the d-th filter over the input volume with a stride of S, and then offset by d-th bias."
   ]
  },
  {
   "cell_type": "markdown",
   "metadata": {},
   "source": [
    "## Convolutional Layers in MXNet"
   ]
  },
  {
   "cell_type": "code",
   "execution_count": 3,
   "metadata": {},
   "outputs": [
    {
     "name": "stdout",
     "output_type": "stream",
     "text": [
      "Stride Sizes' Effect on Output Shape\n",
      "stride size: (1, 1), result shape: (15L, 200L, 101L, 101L)\n",
      "stride size: (2, 2), result shape: (15L, 200L, 51L, 51L)\n",
      "stride size: (3, 3), result shape: (15L, 200L, 34L, 34L)\n",
      "stride size: (4, 4), result shape: (15L, 200L, 26L, 26L)\n",
      "stride size: (5, 5), result shape: (15L, 200L, 21L, 21L)\n",
      "stride size: (6, 6), result shape: (15L, 200L, 17L, 17L)\n",
      "stride size: (7, 7), result shape: (15L, 200L, 15L, 15L)\n",
      "Kernel Sizes' Effect on Output Shape\n",
      "kernel size: (1, 1), result shape: (15L, 200L, 34L, 34L)\n",
      "kernel size: (2, 2), result shape: (15L, 200L, 34L, 34L)\n",
      "kernel size: (3, 3), result shape: (15L, 200L, 34L, 34L)\n",
      "kernel size: (4, 4), result shape: (15L, 200L, 33L, 33L)\n",
      "kernel size: (5, 5), result shape: (15L, 200L, 33L, 33L)\n",
      "kernel size: (6, 6), result shape: (15L, 200L, 33L, 33L)\n",
      "kernel size: (7, 7), result shape: (15L, 200L, 32L, 32L)\n"
     ]
    }
   ],
   "source": [
    "image_height = 100\n",
    "image_width = 100\n",
    "image_depth = 3 #rgb\n",
    "# 100,100,3\n",
    "\n",
    "\n",
    "reshaped_data_shape = [batch_size, image_depth, image_height, image_width]\n",
    "\n",
    "data = mx.sym.Variable('data',shape = reshaped_data_shape)\n",
    "\n",
    "conv = mx.symbol.Convolution(data=data,\n",
    "                             name='conv',\n",
    "                             kernel=(2, 2), \n",
    "                             pad=(2, 2), \n",
    "                             num_filter=256)\n",
    "\n",
    "print(\"Stride Sizes' Effect on Output Shape\")\n",
    "for size in range(1,8):\n",
    "    conv = mx.symbol.Convolution(data=data,\n",
    "                             name='conv',\n",
    "                             kernel=(2, 2), \n",
    "                             stride=(size,size),\n",
    "                             pad=(1, 1), \n",
    "                             num_filter=200)\n",
    "    op = conv.simple_bind(mx.cpu(), data=reshaped_data_shape)\n",
    "    print(\"stride size: {}, result shape: {}\".format((size,size),op.forward()[0].shape))\n",
    "      \n",
    "print(\"Kernel Sizes' Effect on Output Shape\")\n",
    "for size in range(1,8):\n",
    "    conv = mx.symbol.Convolution(data=data,\n",
    "                             name='conv',\n",
    "                             kernel=(size, size), \n",
    "                             stride=(3,3),\n",
    "                             pad=(1, 1), \n",
    "                             num_filter=200)\n",
    "    op = conv.simple_bind(mx.cpu(), data=reshaped_data_shape)\n",
    "    print(\"kernel size: {}, result shape: {}\".format((size,size),op.forward()[0].shape))"
   ]
  },
  {
   "cell_type": "code",
   "execution_count": 23,
   "metadata": {},
   "outputs": [
    {
     "data": {
      "text/plain": [
       "<matplotlib.image.AxesImage at 0x12aafe750>"
      ]
     },
     "execution_count": 23,
     "metadata": {},
     "output_type": "execute_result"
    },
    {
     "data": {
      "image/png": "[encoded data removed]",
      "text/plain": [
       "<matplotlib.figure.Figure at 0x10c149e10>"
      ]
     },
     "metadata": {},
     "output_type": "display_data"
    }
   ],
   "source": [
    "%matplotlib inline\n",
    "import matplotlib.pyplot as plt\n",
    "import numpy as np\n",
    "\n",
    "#!http://data.mxnet.io/models/imagenet/resnet/152-layers/resnet-152-symbol.json\n",
    "#!http://data.mxnet.io/models/imagenet/resnet/152-layers/resnet-152-0000.params\n",
    "\n",
    "def norm(x):\n",
    "    ''' for pretty viz '''\n",
    "    x_min = np.min(x)\n",
    "    x_max = np.max(x)\n",
    "    kernel_0_to_1 = (x - x_min) / (x_max - x_min)\n",
    "    return kernel_0_to_1\n",
    "\n",
    "\n",
    "sym, arg_params, aux_params = mx.model.load_checkpoint('files/resnet-152', 0)\n",
    "\n",
    "conv_layer = norm(arg_params['conv0_weight'].asnumpy())\n",
    "\n",
    "plt.imshow(conv_layer.reshape(56,56,3))\n"
   ]
  },
  {
   "cell_type": "markdown",
   "metadata": {},
   "source": [
    "# Pooling"
   ]
  },
  {
   "cell_type": "markdown",
   "metadata": {
    "collapsed": true
   },
   "source": [
    "The function of pooling is the attempt at a spatial reduction of the size of a given representation in an effort to reduce the number of parameters and computation in a given network (as well as to control for overfitting)\n",
    "\n",
    "A pooling function accepts a volume of size W1×H1×D1, requiring two hyperparameters:\n",
    "\n",
    "    their spatial extent F\n",
    "    the stride S\n",
    "\n",
    "The output of the function produces a volume of size W2×H2×D2 where:\n",
    "\n",
    "    W2=(W1−F)/S+1\n",
    "    H2=(H1−F)/S+1\n",
    "    D2=D1\n",
    "\n",
    "Introduces zero parameters since it computes a fixed function of the input\n",
    "Note that it is not common to use zero-padding for Pooling layers \n",
    "\n",
    "<img src='files/maxpool.jpeg'>\n",
    "\n",
    "**Getting rid of pooling** Many people dislike the pooling operation and think that we can get away without it because they think it gets rid of valuable representations during the reduction. In attempt to circumvent this, individuals have started using larger strides in CONV layers once in a while."
   ]
  },
  {
   "cell_type": "markdown",
   "metadata": {},
   "source": [
    "# Pooling in MXNet"
   ]
  },
  {
   "cell_type": "code",
   "execution_count": 4,
   "metadata": {},
   "outputs": [
    {
     "name": "stdout",
     "output_type": "stream",
     "text": [
      "Stride Kernel Demo\n",
      "kernel: 7\n",
      "stride: 1\n",
      "out shape = (103-7)/(1+1) : (15L, 256L, 97L, 97L)\n",
      "*----*\n",
      "kernel: 6\n",
      "stride: 2\n",
      "out shape = (103-6)/(2+1) : (15L, 256L, 49L, 49L)\n",
      "*----*\n",
      "kernel: 5\n",
      "stride: 3\n",
      "out shape = (103-5)/(3+1) : (15L, 256L, 33L, 33L)\n",
      "*----*\n",
      "kernel: 4\n",
      "stride: 4\n",
      "out shape = (103-4)/(4+1) : (15L, 256L, 25L, 25L)\n",
      "*----*\n",
      "kernel: 3\n",
      "stride: 5\n",
      "out shape = (103-3)/(5+1) : (15L, 256L, 21L, 21L)\n",
      "*----*\n",
      "kernel: 2\n",
      "stride: 6\n",
      "out shape = (103-2)/(6+1) : (15L, 256L, 17L, 17L)\n",
      "*----*\n",
      "kernel: 1\n",
      "stride: 7\n",
      "out shape = (103-1)/(7+1) : (15L, 256L, 15L, 15L)\n",
      "*----*\n"
     ]
    }
   ],
   "source": [
    "reshaped_data_shape = [batch_size, image_depth, image_height, image_width]\n",
    "\n",
    "def print_pool_shape(kernel, stride):\n",
    "    \"\"\"\n",
    "    silly little funct to print the pool operator's shape\n",
    "    \"\"\"\n",
    "    data = mx.sym.Variable('data',shape = reshaped_data_shape)\n",
    "\n",
    "    conv = mx.symbol.Convolution(data=data,\n",
    "                                 name='conv',\n",
    "                                 kernel=(2, 2), \n",
    "                                 pad=(2, 2), \n",
    "                                 num_filter=256)\n",
    "    pool = mx.symbol.Pooling(data=conv, kernel=(kernel, kernel), stride=(stride, stride), pool_type=\"max\")\n",
    "    op = pool.simple_bind(mx.cpu())\n",
    "    print('kernel: {}'.format(kernel))\n",
    "    print('stride: {}'.format(stride))\n",
    "    print(\"out shape = (103-{})/({}+1) : {}\".format(kernel, stride, op.forward()[0].shape))\n",
    "    print('*----*')\n",
    "\n",
    "print(\"Stride Kernel Demo\")\n",
    "shapes = range(1,8)    \n",
    "for x in range(len(shapes)):\n",
    "    print_pool_shape(shapes[::-1][x],shapes[x])\n"
   ]
  },
  {
   "cell_type": "markdown",
   "metadata": {},
   "source": [
    "Andrey Karpathy from the cs231 class:\n",
    "\n",
    "    \n",
    "> In practice: use whatever works best on ImageNet. If you’re feeling a bit of a fatigue in thinking about the architectural decisions, you’ll be pleased to know that in 90% or more of applications you should not have to worry about these. I like to summarize this point as “don’t be a hero”: Instead of rolling your own architecture for a problem, you should look at whatever architecture currently works best on ImageNet, download a pretrained model and finetune it on your data. You should rarely ever have to train a ConvNet  from scratch or design one from scratch. I also made this point at the Deep Learning school.\n",
    "\n",
    "> Compromising based on memory constraints. In some cases (especially early in the ConvNet architectures), the amount of memory can build up very quickly with the rules of thumb  presented above. For example, filtering a 224x224x3 image with three 3x3 CONV layers with 64 filters each and padding 1 would create three activation volumes of size [224x224x64]. This amounts to a total of about 10 million activations, or 72MB of memory (per image, for both activations and gradients). Since GPUs are often bottlenecked by memory, it may be necessary to compromise. In practice, people prefer to make the compromise at only the first CONV layer of the network. For example, one compromise might be to use a first CONV layer with filter sizes of 7x7 and stride of 2 (as seen in a ZF net). As another example, an AlexNet uses filter sizes of 11x11 and stride of 4."
   ]
  },
  {
   "cell_type": "markdown",
   "metadata": {},
   "source": [
    "# RNN and LSTMs"
   ]
  },
  {
   "cell_type": "markdown",
   "metadata": {},
   "source": [
    "Recurrent nets allow us to operate over sequences of vectors: Sequences in the input, the output, or in the most general case both.\n",
    "\n",
    "The image and the accompanying text is from the blogpost [The Unreasonable Effectiveness of Recurrent Neural Networks](http://karpathy.github.io/2015/05/21/rnn-effectiveness/). It is one of the best breakdowns on recurrent neural networks and lstms that exist to date (7/1/17). \n",
    "\n",
    "<img src='files/rnndiags.jpeg'>\n",
    "\n",
    "\n",
    ">Each rectangle is a vector and arrows represent functions (e.g. matrix multiply). Input vectors are in red, output vectors are in blue and green vectors hold the RNN's state (more on this soon). From left to right: (1) Vanilla mode of processing without RNN, from fixed-sized input to fixed-sized output (e.g. image classification). (2) Sequence output (e.g. image captioning takes an image and outputs a sentence of words). (3) Sequence input (e.g. sentiment analysis where a given sentence is classified as expressing positive or negative sentiment). (4) Sequence input and sequence output (e.g. Machine Translation: an RNN reads a sentence in English and then outputs a sentence in French). (5) Synced sequence input and output (e.g. video classification where we wish to label each frame of the video). Notice that in every case are no pre-specified constraints on the lengths sequences because the recurrent transformation (green) is fixed and can be applied as many times as we like."
   ]
  },
  {
   "cell_type": "markdown",
   "metadata": {},
   "source": [
    "## LSTMS "
   ]
  },
  {
   "cell_type": "markdown",
   "metadata": {},
   "source": [
    "(**L**ong **S**hort **T**erm **M**emory)\n",
    "\n",
    "The pictures from this section are taken from the great [Understanding LSTM and its diagrams](https://medium.com/@shiyan/understanding-lstm-and-its-diagrams-37e2f46f1714) and much of the intuitive explanations are taken from [Understanding LSTM Networks](http://colah.github.io/posts/2015-08-Understanding-LSTMs/)\n",
    "\n",
    "The oringal idea for the LSTM unit was first devised by Sepp Hochreiter and Jürgen Schmidhuber in their 1997 paper 'Long Short-Term Memory'\n",
    "\n",
    "As you can see from the two diagrams below; the original visual image of the LSTM is a bit cumbersome\n",
    "<img src='files/lstm_network_original.png'>\n",
    "\n",
    "<img src='files/lstm_diagram_original.png'>\n",
    "\n",
    "Thankfully, great minds have clarified its structure in order help individuals visually underunderstand what is happening.  "
   ]
  },
  {
   "cell_type": "markdown",
   "metadata": {},
   "source": [
    "<img src='files/lstm.png'>\n",
    "\n",
    "<img src='files/lstmchain.png'>\n",
    "\n",
    "<img src='files/lstmmem.png'>\n",
    "The input is the old memory (a vector). The first cross ✖ it passes through is the forget valve. It is actually an element-wise multiplication operation. So if you multiply the old memory C_t-1 with a vector that is close to 0, that means you want to forget most of the old memory. You let the old memory goes through, if your forget valve equals 1.  \n",
    "\n",
    "Then the second operation the memory flow will go through is this + operator.  New memory and the old memory will merge by this operation. How much new memory should be added to the old memory is controlled by another valve, the ✖ below the + sign\n",
    "\n",
    "<img src='files/lstmforget.png'>\n",
    "The first one is called the forget valve. It is controlled by a simple one layer neural network. The inputs of the neural network is h_t-1, the output of the previous LSTM block, X_t, the input for the current LSTM block, C_t-1, the memory of the previous block and finally a bias vector b_0. This neural network has a sigmoid function as activation, and it’s output vector is the forget valve, which will applied to the old memory C_t-1 by element-wise multiplication.\n",
    "\n",
    "<img src='files/lstmnewmem.png'>\n",
    "Now the second valve is called the new memory valve. Again, it is a one layer simple neural network that takes the same inputs as the forget valve. This valve controls how much the new memory should influence the old memory. The new memory itself, however is generated by another neural network. It is also a one layer network, but uses tanh as the activation function. The output of this network will element-wise multiple the new memory valve, and add to the old memory to form the new memory.\n",
    "\n",
    "<img src='files/lstmupdate.png'>\n",
    "These two ✖ signs are the forget valve and the new memory valve.\n",
    "\n",
    "<img src='files/lstmoutput.png'>\n",
    "And finally, we need to generate the output for this LSTM unit. This step has an output valve that is controlled by the new memory, the previous output h_t-1, the input X_t and a bias vector. This valve controls how much new memory should output to the next LSTM unit."
   ]
  },
  {
   "cell_type": "markdown",
   "metadata": {},
   "source": [
    "# LSTMS in MXNet"
   ]
  },
  {
   "cell_type": "markdown",
   "metadata": {},
   "source": [
    "### Load Data"
   ]
  },
  {
   "cell_type": "code",
   "execution_count": 35,
   "metadata": {},
   "outputs": [
    {
     "name": "stdout",
     "output_type": "stream",
     "text": [
      "Loading data...\n",
      "(25000, 'train sequences')\n",
      "(25000, 'test sequences')\n",
      "Pad sequences (samples x time)\n",
      "('x_train shape:', (25000, 80))\n",
      "('x_test shape:', (25000, 80))\n",
      "[DataDesc[data,(32, 80L),<type 'numpy.float32'>,NCHW]]\n",
      "[DataDesc[target,(32, 1L),<type 'numpy.float32'>,NCHW]]\n"
     ]
    }
   ],
   "source": [
    "############ load data ####################\n",
    "from keras.preprocessing import sequence\n",
    "from keras.datasets import imdb\n",
    "import logging\n",
    "import sys\n",
    "\n",
    "max_features = 20000\n",
    "maxlen = 80  # cut texts after this number of words (among top max_features most common words)\n",
    "batch_size = 32\n",
    "\n",
    "\n",
    "print('Loading data...')\n",
    "(x_train, y_train), (x_test, y_test) = imdb.load_data(num_words=max_features)\n",
    "print(len(x_train), 'train sequences')\n",
    "print(len(x_test), 'test sequences')\n",
    "print('Pad sequences (samples x time)')\n",
    "x_train = sequence.pad_sequences(x_train, maxlen=maxlen)\n",
    "x_test = sequence.pad_sequences(x_test, maxlen=maxlen)\n",
    "print('x_train shape:', x_train.shape)\n",
    "print('x_test shape:', x_test.shape)\n",
    "y_train = y_train.reshape((-1, 1))\n",
    "train_iter = mx.io.NDArrayIter(data = x_train,\n",
    "                               label = y_train,\n",
    "                               data_name = 'data',\n",
    "                               label_name = 'target',\n",
    "                               batch_size = batch_size,\n",
    "                               shuffle = True)\n",
    "y_test = y_test.reshape((-1, 1))\n",
    "test_iter = mx.io.NDArrayIter(data = x_test,\n",
    "                               label = y_test,\n",
    "                               data_name = 'data',\n",
    "                               label_name = 'target',\n",
    "                               batch_size = batch_size,\n",
    "                               shuffle = False)\n",
    "print(train_iter.provide_data)\n",
    "print(train_iter.provide_label)"
   ]
  },
  {
   "cell_type": "markdown",
   "metadata": {},
   "source": [
    "### Define A Network Capable of using an LSTM \n",
    "\n",
    "#### Create a data and a target symbolic variable"
   ]
  },
  {
   "cell_type": "code",
   "execution_count": 37,
   "metadata": {
    "collapsed": true
   },
   "outputs": [],
   "source": [
    "logging.basicConfig(stream = sys.stdout, level = logging.DEBUG)\n",
    "\n",
    "# Define the Network #\n",
    "data = mx.symbol.Variable('data')\n",
    "target = mx.symbol.Variable('target')"
   ]
  },
  {
   "cell_type": "markdown",
   "metadata": {},
   "source": [
    "#### Create a data and a target symbolic variable\n",
    "\n",
    "By using the LSTMCell function, we first need to convert sequential information into an embedding so that it can be read by and LSTM"
   ]
  },
  {
   "cell_type": "code",
   "execution_count": 39,
   "metadata": {
    "collapsed": true
   },
   "outputs": [],
   "source": [
    "embedding = mx.symbol.Embedding(data = data,\n",
    "                                input_dim = max_features, \n",
    "                                output_dim = 128)"
   ]
  },
  {
   "cell_type": "markdown",
   "metadata": {},
   "source": [
    "When you have (or plan to have) more than one Recurrent layer within MXNet, you need to use the SequentialRNNCell() function to add layers. This function allows the stacking of multiple layers, essentially this class acts as a list of which appends new layers into a stack."
   ]
  },
  {
   "cell_type": "code",
   "execution_count": 40,
   "metadata": {
    "collapsed": true
   },
   "outputs": [],
   "source": [
    "stack = mx.rnn.SequentialRNNCell()"
   ]
  },
  {
   "cell_type": "markdown",
   "metadata": {},
   "source": [
    "Here we simply call 'add' to the stack to pack an LSTMCell with a W size of 128 and a DropoutCell in order to avoid overfitting"
   ]
  },
  {
   "cell_type": "code",
   "execution_count": 41,
   "metadata": {
    "collapsed": true
   },
   "outputs": [],
   "source": [
    "stack.add(mx.rnn.LSTMCell(num_hidden = 128))\n",
    "stack.add(mx.rnn.DropoutCell(0.2))"
   ]
  },
  {
   "cell_type": "markdown",
   "metadata": {},
   "source": [
    "Next we'll call 'unroll()' on the stack. This function unrolls an RNN for a given number of (>=1) time steps, where the length (int) is the number of steps to unroll. We've already defined our maxlen parameter as 80 (the time-steps that we're allowing our lstm to go for). The result of this function are two variables, 'output' and 'state'. Outputs (list of Symbol or Symbol) – Symbol (if merge_outputs is True) or list of Symbols (if merge_outputs is False) corresponding to the output from the RNN from this unrolling. 'states' (nested list of Symbol) – The new state of this RNN (the memory) after this unrolling. The type of this symbol is same as the output of begin_state()."
   ]
  },
  {
   "cell_type": "code",
   "execution_count": 42,
   "metadata": {
    "collapsed": true
   },
   "outputs": [],
   "source": [
    "output, state = stack.unroll(length = maxlen,\n",
    "                             inputs = embedding, \n",
    "                             merge_outputs = True, \n",
    "                             layout = 'NTC')"
   ]
  },
  {
   "cell_type": "markdown",
   "metadata": {},
   "source": [
    "Lastly, we'll connect the output of the lstm to a fully connected layer with 1 output (the binary class 0 or 1), depending on if your training data is one-hot encoded - the layer could have 2 outputs. In order to properly set up the loss function, we'll use the LogisticRegressionOutput class. This applies a logistic function to the input.\n",
    "\n",
    "$$\\frac{1}{1+exp(-x)}$$\n",
    "\n",
    "To refresh your memory, this sigmoid is used to squash the real-valued output of a linear model into the [0,1] range so that it can be interpreted as a probability. It is suitable for binary classification or probability prediction tasks. \n",
    "\n",
    "Lastly as a refresher from our segment on initializers, we'll use a orthogonal init"
   ]
  },
  {
   "cell_type": "code",
   "execution_count": 43,
   "metadata": {},
   "outputs": [
    {
     "name": "stdout",
     "output_type": "stream",
     "text": [
      "INFO:root:Epoch[0] Train-acc=0.800112\n",
      "INFO:root:Epoch[0] Time cost=69.310\n",
      "INFO:root:Epoch[0] Validation-acc=0.833040\n"
     ]
    },
    {
     "data": {
      "text/plain": [
       "[('acc', 0.83304028132992325)]"
      ]
     },
     "execution_count": 43,
     "metadata": {},
     "output_type": "execute_result"
    }
   ],
   "source": [
    "fc = mx.symbol.FullyConnected(data = output, num_hidden = 1)\n",
    "pred = mx.symbol.LogisticRegressionOutput(data = fc, label = target)\n",
    "\n",
    "# declare the model \n",
    "model = mx.mod.Module(symbol = pred,\n",
    "                      data_names = ['data'],\n",
    "                      label_names = ['target'],\n",
    "                      context = mx.cpu())\n",
    "\n",
    "# the cross-entropy loss function for mxnet evaluation callback\n",
    "metric = mx.metric.CustomMetric(feval=lambda labels, pred: ((pred > 0.5) == labels).mean(),\n",
    "                                name=\"acc\") \n",
    "\n",
    "# fit the model using the metric we've defined above\n",
    "model.fit(train_data = train_iter,\n",
    "          eval_data = test_iter,\n",
    "          optimizer = 'adam',\n",
    "          eval_metric = metric,\n",
    "          num_epoch = 1,\n",
    "          initializer = mx.initializer.Orthogonal(0.25))\n",
    "\n",
    "# output the score defined by the metric\n",
    "model.score(test_iter, metric)"
   ]
  },
  {
   "cell_type": "markdown",
   "metadata": {},
   "source": [
    "# Embedding Layers"
   ]
  },
  {
   "cell_type": "markdown",
   "metadata": {},
   "source": [
    "Plain and simple, embeddings act as a parameterized function that maps one object into a high dimensional representation. Most commonly, this object is a word or a given word's index mapped into a multidimensional array; eg, $W(cat)=(0.2, -0.4, 0.7, ...)$. Typically, the function is a lookup table, parameterized by a matrix, $\\theta$, with a row for each object (word): $W\\theta(wn)=\\theta n$).\n",
    "\n",
    "These structures are used typically in Natural Language Processing to represent words and in [Computer Vision to map faces onto embedded lookup tables](https://arxiv.org/abs/1503.03832)"
   ]
  },
  {
   "cell_type": "markdown",
   "metadata": {},
   "source": [
    "## Embedding Layers in MXNet"
   ]
  },
  {
   "cell_type": "code",
   "execution_count": 55,
   "metadata": {},
   "outputs": [
    {
     "name": "stdout",
     "output_type": "stream",
     "text": [
      "Embedding Shape: [(10L, 64L, 16L)]\n"
     ]
    }
   ],
   "source": [
    "# vocab size\n",
    "vocabulary_size = 26\n",
    "seq_len, batch_size = (10, 64)\n",
    "\n",
    "# our embedding dimensions\n",
    "embed_dim = 16\n",
    "\n",
    "letters = mx.sym.Variable('letters')\n",
    "embedding_op = mx.sym.Embedding(data=letters, \n",
    "                                input_dim=vocabulary_size, \n",
    "                                output_dim=embed_dim, \n",
    "                                name='embed')\n",
    "# end result \n",
    "print(\"Embedding Shape: {}\".format(embedding_op.infer_shape(letters=(seq_len, batch_size))[1]))"
   ]
  },
  {
   "cell_type": "code",
   "execution_count": 56,
   "metadata": {},
   "outputs": [
    {
     "data": {
      "text/plain": [
       "True"
      ]
     },
     "execution_count": 56,
     "metadata": {},
     "output_type": "execute_result"
    }
   ],
   "source": [
    "from mxnet import test_utils\n",
    "vocab_size, embed_dim = (26, 16)\n",
    "batch_size = 12\n",
    "word_vecs = test_utils.random_arrays((vocab_size, embed_dim))\n",
    "\n",
    "op = mx.sym.Embedding(name='embed', input_dim=vocab_size, output_dim=embed_dim)\n",
    "x = np.random.choice(vocab_size, batch_size)\n",
    "\n",
    "y = test_utils.simple_forward(op, embed_data=x, embed_weight=word_vecs)\n",
    "\n",
    "y_np = word_vecs[x]\n",
    "\n",
    "test_utils.almost_equal(y, y_np)\n"
   ]
  },
  {
   "cell_type": "markdown",
   "metadata": {
    "collapsed": true
   },
   "source": [
    "# Batch Normalization Layers"
   ]
  },
  {
   "cell_type": "markdown",
   "metadata": {},
   "source": [
    "***Batch Normalization***. A recently (2015) developed technique by Ioffe and Szegedy allows for another technique to combat vanishing or exploding gradients.\n",
    "\n",
    "$Z = XW$\n",
    "\n",
    "$\\tilde{Z} = Z - \\dfrac{1}{m}\\sum\\limits_{i=1}^m Z_i; $\n",
    "\n",
    "$\\hat{Z} = \\dfrac{\\tilde{Z}}{\\sqrt{\\epsilon + \\dfrac{1}{m}\\sum_{i=1}^m \\tilde{Z_i,:}^2} }$\n",
    "\n",
    "$H = \\max\\{0,\\gamma \\tilde{Z} + \\beta\\}$"
   ]
  },
  {
   "cell_type": "markdown",
   "metadata": {},
   "source": [
    "#### Batch Norm Logic"
   ]
  },
  {
   "cell_type": "markdown",
   "metadata": {},
   "source": [
    "Imagine you have a 5 layer, purely linear network with layers labeled $a, b, c, d, e$. \n",
    "\n",
    "The value of $a$ will very much determine the the statistics of the activations by the time you get to $d$. \n",
    "\n",
    "If we take the gradient of $a$ we might get a very large or a very small number depending on the values of the other parameters within the network (the gradient w.r.t. $a$ is $bcde$.)\n",
    "\n",
    "By adding normalization steps after each multiplication, the value of $a$ now doesn't actually determine the mean or the standard deviation of $d$. Because of this normalization step, we're able to knockout some of the most important interactions between layers. \n",
    "\n",
    "Thus, rather than looking at $a$,$b$,$c$, and $d$ to deterime the mean and standard deviation of $e$; we only need to look at the $gamma$ and $beta$ parameters that we've introduced.\n",
    "\n",
    "For a great overview of BatchNorm logic, please see [this great lecture by Ian Goodfellow](https://www.youtube.com/embed/Xogn6veSyxA?start=325&end=664&version=3)"
   ]
  },
  {
   "cell_type": "markdown",
   "metadata": {},
   "source": [
    "## Batch Normalization Layers in MXNet"
   ]
  },
  {
   "cell_type": "code",
   "execution_count": 2,
   "metadata": {
    "collapsed": true
   },
   "outputs": [],
   "source": [
    "import mxnet as mx\n",
    "def batchnorm_forward_numpy(x, gamma, beta, eps):\n",
    "    N, D = x.shape\n",
    "    #step1: calculate mean\n",
    "    mu = 1./N * np.sum(x, axis = 0)\n",
    "    #step2: subtract mean vector of every trainings example\n",
    "    xmu = x - mu\n",
    "    #step3: following the lower branch - calculation denominator\n",
    "    sq = xmu ** 2\n",
    "    #step4: calculate variance\n",
    "    var = 1./N * np.sum(sq, axis = 0)\n",
    "    #step5: add eps for numerical stability, then sqrt\n",
    "    sqrtvar = np.sqrt(var + eps)\n",
    "    #step6: invert sqrtwar\n",
    "    ivar = 1./sqrtvar\n",
    "    #step7: execute normalization\n",
    "    xhat = xmu * ivar\n",
    "    #step8: Nor the two transformation steps\n",
    "    gammax = gamma * xhat\n",
    "    #step9\n",
    "    out = gammax + beta\n",
    "    #store intermediate\n",
    "    cache = (xhat,gamma,xmu,ivar,sqrtvar,var,eps)\n",
    "    return out, cache\n",
    "\n",
    "def do_batch_norm_numpy(h):\n",
    "    mu = 1/N*np.sum(h,axis =0) # Size (H,) \n",
    "    sigma2 = 1/N*np.sum((h-mu)**2,axis=0)# Size (H,) \n",
    "    hath = (h-mu)*(sigma2+epsilon)**(-1./2.)\n",
    "    y = gamma*hath+beta \n",
    "    return y\n",
    "\n",
    "# mxnet equivalent\n",
    "data = mx.symbol.Variable('data')\n",
    "weight = mx.sym.Variable(name='fc1_weight')\n",
    "fc1 = mx.symbol.FullyConnected(data = data, \n",
    "                               weight=weight, \n",
    "                               name='fc1', \n",
    "                               num_hidden=128)\n",
    "bn1 = mx.symbol.BatchNorm(fc1, name='bn1')\n",
    "act1 = mx.symbol.Activation(bn1, name='relu1',act_type=\"relu\")"
   ]
  },
  {
   "cell_type": "markdown",
   "metadata": {},
   "source": [
    "# Dropout Layers"
   ]
  },
  {
   "cell_type": "markdown",
   "metadata": {},
   "source": [
    "There are a number regularization strategies, but for the sake of this workshop, we'll only talk about the main one used in Neural Networks. The strategy known as **Dropout** is implemented by only keeping a neuron active with some probability p (a hyperparameter - often set by the user to be between .2 and .5), or setting it to zero otherwise. Dropout prevents co-adaptation of neurons by making the presence of other neurons unavailable. In this way, a given neuron cannot rely on other neurons to correct it's mistakes. The diagram below shows the Dropout strategy:\n",
    "\n",
    "<img src='files/dropout.jpeg'>"
   ]
  },
  {
   "cell_type": "markdown",
   "metadata": {},
   "source": [
    "## Dropout Layers in Numpy"
   ]
  },
  {
   "cell_type": "code",
   "execution_count": 4,
   "metadata": {
    "collapsed": true
   },
   "outputs": [],
   "source": [
    "\"\"\" \n",
    "Inverted Dropout: Recommended implementation example.\n",
    "We drop and scale at train time and don't do anything at test time.\n",
    "More or less, dropout has been shown to be the first-order equivalent to an L2 regularizer. \n",
    "\"\"\"\n",
    "\n",
    "p = 0.5 # probability of keeping a unit active. higher = less dropout\n",
    "\n",
    "def train_step(X):\n",
    "    # forward pass for example 3-layer neural network\n",
    "    H1 = np.maximum(0, np.dot(W1, X) + b1)\n",
    "    U1 = (np.random.rand(*H1.shape) < p) / p # first dropout mask. Notice /p!\n",
    "    H1 *= U1 # drop!\n",
    "    H2 = np.maximum(0, np.dot(W2, H1) + b2)\n",
    "    U2 = (np.random.rand(*H2.shape) < p) / p # second dropout mask. Notice /p!\n",
    "    H2 *= U2 # drop!\n",
    "    out = np.dot(W3, H2) + b3\n",
    "  \n",
    "    # backward pass: compute gradients... (not shown)\n",
    "    # perform parameter update... (not shown)\n",
    "\n",
    "def predict(X):\n",
    "    # ensembled forward pass\n",
    "    H1 = np.maximum(0, np.dot(W1, X) + b1) # no scaling necessary\n",
    "    H2 = np.maximum(0, np.dot(W2, H1) + b2)\n",
    "    out = np.dot(W3, H2) + b3"
   ]
  },
  {
   "cell_type": "markdown",
   "metadata": {},
   "source": [
    "## Dropout Layers in MXNet"
   ]
  },
  {
   "cell_type": "code",
   "execution_count": 3,
   "metadata": {},
   "outputs": [
    {
     "name": "stdout",
     "output_type": "stream",
     "text": [
      "Training\n",
      "[[ 3.75   0.625 -0.625  0.     8.75 ]\n",
      " [ 0.    -0.5    0.     3.75   0.25 ]]\n",
      "Testing\n",
      "[[ 3.          0.5        -0.5         2.          7.        ]\n",
      " [ 2.         -0.40000001  7.          3.          0.2       ]]\n"
     ]
    },
    {
     "name": "stderr",
     "output_type": "stream",
     "text": [
      "/Users/krzum/anaconda3/envs/ml/lib/python2.7/site-packages/ipykernel/__main__.py:23: UserWarning: Calling forward the second time after forward(is_train=True) without calling backward first. Is this intended?\n"
     ]
    }
   ],
   "source": [
    "# Dropout in mxnet\n",
    "import numpy as np\n",
    "import mxnet as mx\n",
    "np.random.seed(998)\n",
    "\n",
    "# create input data\n",
    "input_array = np.array([[3., 0.5,  -0.5,  2., 7.],\n",
    "                    [2., -0.4,   7.,  3., 0.2]])\n",
    "\n",
    "# create symbol and executor\n",
    "a = mx.symbol.Variable('a')\n",
    "dropout = mx.symbol.Dropout(a, p = 0.2)\n",
    "executor = dropout.simple_bind(mx.cpu(0),a = input_array.shape)\n",
    "\n",
    "## If training\n",
    "executor.forward(is_train = True, a = input_array)\n",
    "print(\"Training\")\n",
    "print(executor.outputs[0].asnumpy())\n",
    "#[[ 3.75   0.625 -0.     2.5    8.75 ]\n",
    "# [ 2.5   -0.5    8.75   3.75   0.   ]]\n",
    "\n",
    "## If testing\n",
    "executor.forward(is_train = False, a = input_array)\n",
    "print(\"Testing\")\n",
    "print(executor.outputs[0].asnumpy())\n",
    "#[[ 3.     0.5   -0.5    2.     7.   ]\n",
    "# [ 2.    -0.4    7.     3.     0.2  ]]"
   ]
  }
 ],
 "metadata": {
  "kernelspec": {
   "display_name": "Python 2",
   "language": "python",
   "name": "python2"
  },
  "language_info": {
   "codemirror_mode": {
    "name": "ipython",
    "version": 2
   },
   "file_extension": ".py",
   "mimetype": "text/x-python",
   "name": "python",
   "nbconvert_exporter": "python",
   "pygments_lexer": "ipython2",
   "version": "2.7.13"
  }
 },
 "nbformat": 4,
 "nbformat_minor": 2
}
